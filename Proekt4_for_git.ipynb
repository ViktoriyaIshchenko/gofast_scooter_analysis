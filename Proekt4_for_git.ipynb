{
 "cells": [
  {
   "cell_type": "markdown",
   "id": "2d3181f9",
   "metadata": {},
   "source": [
    "# Исследование данных о пользователях и их поездках сервиса аренды самокатов GoFast"
   ]
  },
  {
   "cell_type": "markdown",
   "id": "8959b400",
   "metadata": {},
   "source": [
    "Нам передали данные о некоторых пользователях из нескольких городов, а также об их поездках популярного сервиса аренды самокатов GoFast. Требуется проанализировать данные и проверить некоторые гипотезы, которые могут помочь бизнесу вырасти.\n",
    "\n",
    "Чтобы совершать поездки по городу, пользователи сервиса GoFast пользуются мобильным приложением.\n",
    "\n",
    "Сервисом можно пользоваться:\n",
    "- без подписки:\n",
    " - абонентская плата отсутствует;\n",
    " - стоимость одной минуты поездки — 8 рублей;\n",
    " - стоимость старта (начала поездки) — 50 рублей;\n",
    "- с подпиской Ultra:\n",
    " - абонентская плата — 199 рублей в месяц;\n",
    " - стоимость одной минуты поездки — 6 рублей;\n",
    " - стоимость старта — бесплатно.\n",
    "\n",
    "Перед бизнесом встали следующие вопросы:\n",
    "- Тратят ли пользователи с подпиской больше времени на поездки?\n",
    "- Можно ли сказать, что среднее расстояние, которое проезжают пользователи с подпиской за одну поездку, не превышает 3130 метров(оптимальное расстояние с точки зрения износа самоката)?\n",
    "- Будет ли помесячная выручка от пользователей с подпиской по месяцам выше, чем выручка от пользователей без подписки?\n",
    "- Снизится ли значимо количество обращений в техподдержку после обновления серверов?\n",
    "\n",
    "Так как основная задача любого бизнеса - максимилизация прибыли, можно сказать, что вопрос о сравнении величины помесячной прибыли от пользователей с подпиской и без наиболее значимый.\n",
    "\n",
    "**Цель исследования:**\n",
    "\n",
    "1. Проанализировать данные о пользователях сервиса аренды самокатов GoFast и их поездках \n",
    "2. Проверить гипотезы, которые могут помочь бизнесу вырасти\n",
    "\n",
    "**Ход исследования:**\n",
    "\n",
    "Будут открыты и проанализировны имеющиеся данные, определено качество выборки, наличие дубликатов, ошибок. За тем, произведем расчет дополнительных параметров. Далее последует анализ гипотез и выводы.\n",
    "\n",
    "Так будут пройдены все этапы анализа данных:\n",
    "\n",
    "- Обзор данных\n",
    "- Предобработка данных\n",
    "- Проведение исследовательского анализа данных\n",
    "- Расчеты и анализ результатов\n",
    "- Проверка гипотез\n",
    "- Написание общего вывода\n",
    "\n",
    " \n",
    "**Описание данных**\n",
    "\n",
    "В основных данных есть информация о пользователях, их поездках и подписках.\n",
    "\n",
    "Данные о пользователх в `users_go.csv`, где\n",
    "\n",
    "\n",
    "`user_id`\tуникальный идентификатор пользователя\n",
    "\n",
    "`name`\tимя пользователя\n",
    "\n",
    "`age`\tвозраст\n",
    "\n",
    "`city`\tгород\n",
    "\n",
    "`subscription_type`\tтип подписки (free, ultra)\n",
    "\n",
    "Поездки в `rides_go.csv`, где\n",
    "\n",
    "\n",
    "`user_id`\tуникальный идентификатор пользователя\n",
    "\n",
    "`distance`\tрасстояние, которое пользователь проехал в текущей сессии (в метрах)\n",
    "\n",
    "`duration`\tпродолжительность сессии (в минутах) — время с того момента, как пользователь нажал кнопку «Начать поездку» до момента, как он нажал кнопку «Завершить поездку»\n",
    "\n",
    "`date`\tдата совершения поездки\n",
    "\n",
    "Подписки — `subscriptions_go.csv`, где\n",
    "\n",
    "\n",
    "`subscription_type`\tтип подписки\n",
    "\n",
    "`minute_price`\tстоимость одной минуты поездки по данной подписке\n",
    "\n",
    "`start_ride_price`\tстоимость начала поездки\n",
    "\n",
    "`subscription_fee`\tстоимость ежемесячного платежа\n"
   ]
  },
  {
   "cell_type": "markdown",
   "id": "698f8b90",
   "metadata": {},
   "source": [
    "Импортируем необходимые библиотеки"
   ]
  },
  {
   "cell_type": "code",
   "execution_count": 4,
   "id": "72576667",
   "metadata": {},
   "outputs": [],
   "source": [
    "import pandas as pd\n",
    "import matplotlib.pyplot as plt\n",
    "import numpy as np\n",
    "import datetime as dt\n",
    "from math import sqrt, factorial, exp\n",
    "from scipy.stats import poisson,binom\n",
    "from scipy import stats as st\n",
    "from IPython.display import display, Markdown"
   ]
  },
  {
   "cell_type": "markdown",
   "id": "c42cbe00",
   "metadata": {},
   "source": [
    "#### Шаг 1. Загрузка данных"
   ]
  },
  {
   "cell_type": "markdown",
   "id": "3399de55",
   "metadata": {},
   "source": [
    "Откроем файлы и выведем исходнык таблицы на экран для изучения."
   ]
  },
  {
   "cell_type": "code",
   "execution_count": 5,
   "id": "eff9f206",
   "metadata": {
    "scrolled": true
   },
   "outputs": [],
   "source": [
    "data_users = pd.read_csv('/Users/fen1x/Documents/Analize_new_proffesion/исх данные/users_go.csv')\n",
    "data_rides = pd.read_csv('/Users/fen1x/Documents/Analize_new_proffesion/исх данные/rides_go.csv', parse_dates=['date'])\n",
    "data_subscriptions = pd.read_csv('/Users/fen1x/Documents/Analize_new_proffesion/исх данные/subscriptions_go.csv')\n",
    "pd.set_option('display.max_columns', 500)"
   ]
  },
  {
   "cell_type": "markdown",
   "id": "d1ae6f76",
   "metadata": {},
   "source": [
    "Теперь выведем сводную информацию о таблице **`data_users`** с помощью метода  ***info()*** и саму таблицу"
   ]
  },
  {
   "cell_type": "code",
   "execution_count": 6,
   "id": "12a40572",
   "metadata": {},
   "outputs": [
    {
     "name": "stdout",
     "output_type": "stream",
     "text": [
      "\n",
      "\n",
      " Данные о пользователях\n"
     ]
    },
    {
     "data": {
      "text/html": [
       "<style  type=\"text/css\" >\n",
       "    #T_26ab9_ td {\n",
       "          border: 1px solid black;\n",
       "    }    #T_26ab9_ th {\n",
       "          border: 1px solid black;\n",
       "    }#T_26ab9_row0_col0,#T_26ab9_row0_col1,#T_26ab9_row0_col2,#T_26ab9_row0_col3,#T_26ab9_row0_col4,#T_26ab9_row1_col0,#T_26ab9_row1_col1,#T_26ab9_row1_col2,#T_26ab9_row1_col3,#T_26ab9_row1_col4,#T_26ab9_row2_col0,#T_26ab9_row2_col1,#T_26ab9_row2_col2,#T_26ab9_row2_col3,#T_26ab9_row2_col4,#T_26ab9_row3_col0,#T_26ab9_row3_col1,#T_26ab9_row3_col2,#T_26ab9_row3_col3,#T_26ab9_row3_col4,#T_26ab9_row4_col0,#T_26ab9_row4_col1,#T_26ab9_row4_col2,#T_26ab9_row4_col3,#T_26ab9_row4_col4,#T_26ab9_row5_col0,#T_26ab9_row5_col1,#T_26ab9_row5_col2,#T_26ab9_row5_col3,#T_26ab9_row5_col4,#T_26ab9_row6_col0,#T_26ab9_row6_col1,#T_26ab9_row6_col2,#T_26ab9_row6_col3,#T_26ab9_row6_col4,#T_26ab9_row7_col0,#T_26ab9_row7_col1,#T_26ab9_row7_col2,#T_26ab9_row7_col3,#T_26ab9_row7_col4,#T_26ab9_row8_col0,#T_26ab9_row8_col1,#T_26ab9_row8_col2,#T_26ab9_row8_col3,#T_26ab9_row8_col4,#T_26ab9_row9_col0,#T_26ab9_row9_col1,#T_26ab9_row9_col2,#T_26ab9_row9_col3,#T_26ab9_row9_col4{\n",
       "            background-color:  white;\n",
       "            color:  black;\n",
       "        }</style><table id=\"T_26ab9_\" ><thead>    <tr>        <th class=\"blank level0\" ></th>        <th class=\"col_heading level0 col0\" >user_id</th>        <th class=\"col_heading level0 col1\" >name</th>        <th class=\"col_heading level0 col2\" >age</th>        <th class=\"col_heading level0 col3\" >city</th>        <th class=\"col_heading level0 col4\" >subscription_type</th>    </tr></thead><tbody>\n",
       "                <tr>\n",
       "                        <th id=\"T_26ab9_level0_row0\" class=\"row_heading level0 row0\" >0</th>\n",
       "                        <td id=\"T_26ab9_row0_col0\" class=\"data row0 col0\" >1</td>\n",
       "                        <td id=\"T_26ab9_row0_col1\" class=\"data row0 col1\" >Кира</td>\n",
       "                        <td id=\"T_26ab9_row0_col2\" class=\"data row0 col2\" >22</td>\n",
       "                        <td id=\"T_26ab9_row0_col3\" class=\"data row0 col3\" >Тюмень</td>\n",
       "                        <td id=\"T_26ab9_row0_col4\" class=\"data row0 col4\" >ultra</td>\n",
       "            </tr>\n",
       "            <tr>\n",
       "                        <th id=\"T_26ab9_level0_row1\" class=\"row_heading level0 row1\" >1</th>\n",
       "                        <td id=\"T_26ab9_row1_col0\" class=\"data row1 col0\" >2</td>\n",
       "                        <td id=\"T_26ab9_row1_col1\" class=\"data row1 col1\" >Станислав</td>\n",
       "                        <td id=\"T_26ab9_row1_col2\" class=\"data row1 col2\" >31</td>\n",
       "                        <td id=\"T_26ab9_row1_col3\" class=\"data row1 col3\" >Омск</td>\n",
       "                        <td id=\"T_26ab9_row1_col4\" class=\"data row1 col4\" >ultra</td>\n",
       "            </tr>\n",
       "            <tr>\n",
       "                        <th id=\"T_26ab9_level0_row2\" class=\"row_heading level0 row2\" >2</th>\n",
       "                        <td id=\"T_26ab9_row2_col0\" class=\"data row2 col0\" >3</td>\n",
       "                        <td id=\"T_26ab9_row2_col1\" class=\"data row2 col1\" >Алексей</td>\n",
       "                        <td id=\"T_26ab9_row2_col2\" class=\"data row2 col2\" >20</td>\n",
       "                        <td id=\"T_26ab9_row2_col3\" class=\"data row2 col3\" >Москва</td>\n",
       "                        <td id=\"T_26ab9_row2_col4\" class=\"data row2 col4\" >ultra</td>\n",
       "            </tr>\n",
       "            <tr>\n",
       "                        <th id=\"T_26ab9_level0_row3\" class=\"row_heading level0 row3\" >3</th>\n",
       "                        <td id=\"T_26ab9_row3_col0\" class=\"data row3 col0\" >4</td>\n",
       "                        <td id=\"T_26ab9_row3_col1\" class=\"data row3 col1\" >Константин</td>\n",
       "                        <td id=\"T_26ab9_row3_col2\" class=\"data row3 col2\" >26</td>\n",
       "                        <td id=\"T_26ab9_row3_col3\" class=\"data row3 col3\" >Ростов-на-Дону</td>\n",
       "                        <td id=\"T_26ab9_row3_col4\" class=\"data row3 col4\" >ultra</td>\n",
       "            </tr>\n",
       "            <tr>\n",
       "                        <th id=\"T_26ab9_level0_row4\" class=\"row_heading level0 row4\" >4</th>\n",
       "                        <td id=\"T_26ab9_row4_col0\" class=\"data row4 col0\" >5</td>\n",
       "                        <td id=\"T_26ab9_row4_col1\" class=\"data row4 col1\" >Адель</td>\n",
       "                        <td id=\"T_26ab9_row4_col2\" class=\"data row4 col2\" >28</td>\n",
       "                        <td id=\"T_26ab9_row4_col3\" class=\"data row4 col3\" >Омск</td>\n",
       "                        <td id=\"T_26ab9_row4_col4\" class=\"data row4 col4\" >ultra</td>\n",
       "            </tr>\n",
       "            <tr>\n",
       "                        <th id=\"T_26ab9_level0_row5\" class=\"row_heading level0 row5\" >5</th>\n",
       "                        <td id=\"T_26ab9_row5_col0\" class=\"data row5 col0\" >6</td>\n",
       "                        <td id=\"T_26ab9_row5_col1\" class=\"data row5 col1\" >Регина</td>\n",
       "                        <td id=\"T_26ab9_row5_col2\" class=\"data row5 col2\" >25</td>\n",
       "                        <td id=\"T_26ab9_row5_col3\" class=\"data row5 col3\" >Краснодар</td>\n",
       "                        <td id=\"T_26ab9_row5_col4\" class=\"data row5 col4\" >ultra</td>\n",
       "            </tr>\n",
       "            <tr>\n",
       "                        <th id=\"T_26ab9_level0_row6\" class=\"row_heading level0 row6\" >6</th>\n",
       "                        <td id=\"T_26ab9_row6_col0\" class=\"data row6 col0\" >7</td>\n",
       "                        <td id=\"T_26ab9_row6_col1\" class=\"data row6 col1\" >Игорь</td>\n",
       "                        <td id=\"T_26ab9_row6_col2\" class=\"data row6 col2\" >23</td>\n",
       "                        <td id=\"T_26ab9_row6_col3\" class=\"data row6 col3\" >Омск</td>\n",
       "                        <td id=\"T_26ab9_row6_col4\" class=\"data row6 col4\" >ultra</td>\n",
       "            </tr>\n",
       "            <tr>\n",
       "                        <th id=\"T_26ab9_level0_row7\" class=\"row_heading level0 row7\" >7</th>\n",
       "                        <td id=\"T_26ab9_row7_col0\" class=\"data row7 col0\" >8</td>\n",
       "                        <td id=\"T_26ab9_row7_col1\" class=\"data row7 col1\" >Юрий</td>\n",
       "                        <td id=\"T_26ab9_row7_col2\" class=\"data row7 col2\" >23</td>\n",
       "                        <td id=\"T_26ab9_row7_col3\" class=\"data row7 col3\" >Краснодар</td>\n",
       "                        <td id=\"T_26ab9_row7_col4\" class=\"data row7 col4\" >ultra</td>\n",
       "            </tr>\n",
       "            <tr>\n",
       "                        <th id=\"T_26ab9_level0_row8\" class=\"row_heading level0 row8\" >8</th>\n",
       "                        <td id=\"T_26ab9_row8_col0\" class=\"data row8 col0\" >9</td>\n",
       "                        <td id=\"T_26ab9_row8_col1\" class=\"data row8 col1\" >Ян</td>\n",
       "                        <td id=\"T_26ab9_row8_col2\" class=\"data row8 col2\" >21</td>\n",
       "                        <td id=\"T_26ab9_row8_col3\" class=\"data row8 col3\" >Пятигорск</td>\n",
       "                        <td id=\"T_26ab9_row8_col4\" class=\"data row8 col4\" >ultra</td>\n",
       "            </tr>\n",
       "            <tr>\n",
       "                        <th id=\"T_26ab9_level0_row9\" class=\"row_heading level0 row9\" >9</th>\n",
       "                        <td id=\"T_26ab9_row9_col0\" class=\"data row9 col0\" >10</td>\n",
       "                        <td id=\"T_26ab9_row9_col1\" class=\"data row9 col1\" >Валерий</td>\n",
       "                        <td id=\"T_26ab9_row9_col2\" class=\"data row9 col2\" >18</td>\n",
       "                        <td id=\"T_26ab9_row9_col3\" class=\"data row9 col3\" >Екатеринбург</td>\n",
       "                        <td id=\"T_26ab9_row9_col4\" class=\"data row9 col4\" >ultra</td>\n",
       "            </tr>\n",
       "    </tbody></table>"
      ],
      "text/plain": [
       "<pandas.io.formats.style.Styler at 0x13237f7f0>"
      ]
     },
     "metadata": {},
     "output_type": "display_data"
    },
    {
     "name": "stdout",
     "output_type": "stream",
     "text": [
      "\n",
      "<class 'pandas.core.frame.DataFrame'>\n",
      "RangeIndex: 1565 entries, 0 to 1564\n",
      "Data columns (total 5 columns):\n",
      " #   Column             Non-Null Count  Dtype \n",
      "---  ------             --------------  ----- \n",
      " 0   user_id            1565 non-null   int64 \n",
      " 1   name               1565 non-null   object\n",
      " 2   age                1565 non-null   int64 \n",
      " 3   city               1565 non-null   object\n",
      " 4   subscription_type  1565 non-null   object\n",
      "dtypes: int64(2), object(3)\n",
      "memory usage: 61.3+ KB\n"
     ]
    }
   ],
   "source": [
    "#Функция для вывода информации\n",
    "def start_info(name,df):\n",
    "    #применяем стили к таблице\n",
    "    df1=df.head(10).style.set_properties(**{'background-color': 'white', 'color': 'black'})\n",
    "    df1=df1.set_table_styles([{\n",
    "    'selector': 'td',\n",
    "    'props': [('border', '1px solid black')]},\n",
    "    {'selector': 'th',\n",
    "     'props': [('border', '1px solid black')]}])                                      \n",
    "    print('\\n\\n',name)\n",
    "    display(df1)\n",
    "    print()\n",
    "    df.info()\n",
    "\n",
    "start_info('Данные о пользователях',data_users)"
   ]
  },
  {
   "cell_type": "markdown",
   "id": "2fa4ccbd",
   "metadata": {},
   "source": [
    "По общей информации видно, что пропусков в этой таблице не имеется."
   ]
  },
  {
   "cell_type": "markdown",
   "id": "1b1c83d7",
   "metadata": {},
   "source": [
    "Построим график по столбцу `age` ."
   ]
  },
  {
   "cell_type": "code",
   "execution_count": 7,
   "id": "8f11e181",
   "metadata": {},
   "outputs": [
    {
     "data": {
      "image/png": "[encoded data removed]",
      "text/plain": [
       "<Figure size 720x360 with 1 Axes>"
      ]
     },
     "metadata": {
      "needs_background": "light"
     },
     "output_type": "display_data"
    }
   ],
   "source": [
    "data_users['age'].plot(kind='hist', figsize = (10,5), bins=15, grid=True)\n",
    "# Добавляем заголовок\n",
    "plt.title('Распределение возраста пользователей')\n",
    "# Добавляем подпись оси X\n",
    "plt.xlabel('возраст')\n",
    "plt.show()"
   ]
  },
  {
   "cell_type": "markdown",
   "id": "9e543cdf",
   "metadata": {},
   "source": [
    "Гистограмма иллюстрирует, что данные имеют нормальное распределение и нет выбивающихся значений."
   ]
  },
  {
   "cell_type": "markdown",
   "id": "281e8eae",
   "metadata": {},
   "source": [
    "Выведем сводную информацию о таблице **`data_rides`** с помощью метода  ***info()*** и саму таблицу"
   ]
  },
  {
   "cell_type": "code",
   "execution_count": 8,
   "id": "33c329e8",
   "metadata": {
    "scrolled": true
   },
   "outputs": [
    {
     "name": "stdout",
     "output_type": "stream",
     "text": [
      "\n",
      "\n",
      " Данные о поездках\n"
     ]
    },
    {
     "data": {
      "text/html": [
       "<style  type=\"text/css\" >\n",
       "    #T_def8a_ td {\n",
       "          border: 1px solid black;\n",
       "    }    #T_def8a_ th {\n",
       "          border: 1px solid black;\n",
       "    }#T_def8a_row0_col0,#T_def8a_row0_col1,#T_def8a_row0_col2,#T_def8a_row0_col3,#T_def8a_row1_col0,#T_def8a_row1_col1,#T_def8a_row1_col2,#T_def8a_row1_col3,#T_def8a_row2_col0,#T_def8a_row2_col1,#T_def8a_row2_col2,#T_def8a_row2_col3,#T_def8a_row3_col0,#T_def8a_row3_col1,#T_def8a_row3_col2,#T_def8a_row3_col3,#T_def8a_row4_col0,#T_def8a_row4_col1,#T_def8a_row4_col2,#T_def8a_row4_col3,#T_def8a_row5_col0,#T_def8a_row5_col1,#T_def8a_row5_col2,#T_def8a_row5_col3,#T_def8a_row6_col0,#T_def8a_row6_col1,#T_def8a_row6_col2,#T_def8a_row6_col3,#T_def8a_row7_col0,#T_def8a_row7_col1,#T_def8a_row7_col2,#T_def8a_row7_col3,#T_def8a_row8_col0,#T_def8a_row8_col1,#T_def8a_row8_col2,#T_def8a_row8_col3,#T_def8a_row9_col0,#T_def8a_row9_col1,#T_def8a_row9_col2,#T_def8a_row9_col3{\n",
       "            background-color:  white;\n",
       "            color:  black;\n",
       "        }</style><table id=\"T_def8a_\" ><thead>    <tr>        <th class=\"blank level0\" ></th>        <th class=\"col_heading level0 col0\" >user_id</th>        <th class=\"col_heading level0 col1\" >distance</th>        <th class=\"col_heading level0 col2\" >duration</th>        <th class=\"col_heading level0 col3\" >date</th>    </tr></thead><tbody>\n",
       "                <tr>\n",
       "                        <th id=\"T_def8a_level0_row0\" class=\"row_heading level0 row0\" >0</th>\n",
       "                        <td id=\"T_def8a_row0_col0\" class=\"data row0 col0\" >1</td>\n",
       "                        <td id=\"T_def8a_row0_col1\" class=\"data row0 col1\" >4409.919140</td>\n",
       "                        <td id=\"T_def8a_row0_col2\" class=\"data row0 col2\" >25.599769</td>\n",
       "                        <td id=\"T_def8a_row0_col3\" class=\"data row0 col3\" >2021-01-01 00:00:00</td>\n",
       "            </tr>\n",
       "            <tr>\n",
       "                        <th id=\"T_def8a_level0_row1\" class=\"row_heading level0 row1\" >1</th>\n",
       "                        <td id=\"T_def8a_row1_col0\" class=\"data row1 col0\" >1</td>\n",
       "                        <td id=\"T_def8a_row1_col1\" class=\"data row1 col1\" >2617.592153</td>\n",
       "                        <td id=\"T_def8a_row1_col2\" class=\"data row1 col2\" >15.816871</td>\n",
       "                        <td id=\"T_def8a_row1_col3\" class=\"data row1 col3\" >2021-01-18 00:00:00</td>\n",
       "            </tr>\n",
       "            <tr>\n",
       "                        <th id=\"T_def8a_level0_row2\" class=\"row_heading level0 row2\" >2</th>\n",
       "                        <td id=\"T_def8a_row2_col0\" class=\"data row2 col0\" >1</td>\n",
       "                        <td id=\"T_def8a_row2_col1\" class=\"data row2 col1\" >754.159807</td>\n",
       "                        <td id=\"T_def8a_row2_col2\" class=\"data row2 col2\" >6.232113</td>\n",
       "                        <td id=\"T_def8a_row2_col3\" class=\"data row2 col3\" >2021-04-20 00:00:00</td>\n",
       "            </tr>\n",
       "            <tr>\n",
       "                        <th id=\"T_def8a_level0_row3\" class=\"row_heading level0 row3\" >3</th>\n",
       "                        <td id=\"T_def8a_row3_col0\" class=\"data row3 col0\" >1</td>\n",
       "                        <td id=\"T_def8a_row3_col1\" class=\"data row3 col1\" >2694.783254</td>\n",
       "                        <td id=\"T_def8a_row3_col2\" class=\"data row3 col2\" >18.511000</td>\n",
       "                        <td id=\"T_def8a_row3_col3\" class=\"data row3 col3\" >2021-08-11 00:00:00</td>\n",
       "            </tr>\n",
       "            <tr>\n",
       "                        <th id=\"T_def8a_level0_row4\" class=\"row_heading level0 row4\" >4</th>\n",
       "                        <td id=\"T_def8a_row4_col0\" class=\"data row4 col0\" >1</td>\n",
       "                        <td id=\"T_def8a_row4_col1\" class=\"data row4 col1\" >4028.687306</td>\n",
       "                        <td id=\"T_def8a_row4_col2\" class=\"data row4 col2\" >26.265803</td>\n",
       "                        <td id=\"T_def8a_row4_col3\" class=\"data row4 col3\" >2021-08-28 00:00:00</td>\n",
       "            </tr>\n",
       "            <tr>\n",
       "                        <th id=\"T_def8a_level0_row5\" class=\"row_heading level0 row5\" >5</th>\n",
       "                        <td id=\"T_def8a_row5_col0\" class=\"data row5 col0\" >1</td>\n",
       "                        <td id=\"T_def8a_row5_col1\" class=\"data row5 col1\" >2770.890808</td>\n",
       "                        <td id=\"T_def8a_row5_col2\" class=\"data row5 col2\" >16.650138</td>\n",
       "                        <td id=\"T_def8a_row5_col3\" class=\"data row5 col3\" >2021-10-09 00:00:00</td>\n",
       "            </tr>\n",
       "            <tr>\n",
       "                        <th id=\"T_def8a_level0_row6\" class=\"row_heading level0 row6\" >6</th>\n",
       "                        <td id=\"T_def8a_row6_col0\" class=\"data row6 col0\" >1</td>\n",
       "                        <td id=\"T_def8a_row6_col1\" class=\"data row6 col1\" >3039.020292</td>\n",
       "                        <td id=\"T_def8a_row6_col2\" class=\"data row6 col2\" >14.927879</td>\n",
       "                        <td id=\"T_def8a_row6_col3\" class=\"data row6 col3\" >2021-10-19 00:00:00</td>\n",
       "            </tr>\n",
       "            <tr>\n",
       "                        <th id=\"T_def8a_level0_row7\" class=\"row_heading level0 row7\" >7</th>\n",
       "                        <td id=\"T_def8a_row7_col0\" class=\"data row7 col0\" >1</td>\n",
       "                        <td id=\"T_def8a_row7_col1\" class=\"data row7 col1\" >2842.118050</td>\n",
       "                        <td id=\"T_def8a_row7_col2\" class=\"data row7 col2\" >23.117468</td>\n",
       "                        <td id=\"T_def8a_row7_col3\" class=\"data row7 col3\" >2021-11-06 00:00:00</td>\n",
       "            </tr>\n",
       "            <tr>\n",
       "                        <th id=\"T_def8a_level0_row8\" class=\"row_heading level0 row8\" >8</th>\n",
       "                        <td id=\"T_def8a_row8_col0\" class=\"data row8 col0\" >1</td>\n",
       "                        <td id=\"T_def8a_row8_col1\" class=\"data row8 col1\" >3412.690668</td>\n",
       "                        <td id=\"T_def8a_row8_col2\" class=\"data row8 col2\" >15.238072</td>\n",
       "                        <td id=\"T_def8a_row8_col3\" class=\"data row8 col3\" >2021-11-14 00:00:00</td>\n",
       "            </tr>\n",
       "            <tr>\n",
       "                        <th id=\"T_def8a_level0_row9\" class=\"row_heading level0 row9\" >9</th>\n",
       "                        <td id=\"T_def8a_row9_col0\" class=\"data row9 col0\" >1</td>\n",
       "                        <td id=\"T_def8a_row9_col1\" class=\"data row9 col1\" >748.690645</td>\n",
       "                        <td id=\"T_def8a_row9_col2\" class=\"data row9 col2\" >15.041884</td>\n",
       "                        <td id=\"T_def8a_row9_col3\" class=\"data row9 col3\" >2021-11-22 00:00:00</td>\n",
       "            </tr>\n",
       "    </tbody></table>"
      ],
      "text/plain": [
       "<pandas.io.formats.style.Styler at 0x13237f430>"
      ]
     },
     "metadata": {},
     "output_type": "display_data"
    },
    {
     "name": "stdout",
     "output_type": "stream",
     "text": [
      "\n",
      "<class 'pandas.core.frame.DataFrame'>\n",
      "RangeIndex: 18068 entries, 0 to 18067\n",
      "Data columns (total 4 columns):\n",
      " #   Column    Non-Null Count  Dtype         \n",
      "---  ------    --------------  -----         \n",
      " 0   user_id   18068 non-null  int64         \n",
      " 1   distance  18068 non-null  float64       \n",
      " 2   duration  18068 non-null  float64       \n",
      " 3   date      18068 non-null  datetime64[ns]\n",
      "dtypes: datetime64[ns](1), float64(2), int64(1)\n",
      "memory usage: 564.8 KB\n"
     ]
    }
   ],
   "source": [
    "start_info('Данные о поездках',data_rides)"
   ]
  },
  {
   "cell_type": "markdown",
   "id": "4a833641",
   "metadata": {},
   "source": [
    "В данных имеется столбец с датой совершения поездки. Посмотрим за сколько лет нам предоставлена информация"
   ]
  },
  {
   "cell_type": "code",
   "execution_count": 9,
   "id": "6db78589",
   "metadata": {
    "scrolled": true
   },
   "outputs": [
    {
     "data": {
      "text/plain": [
       "array(['2021-01-01T00:00:00.000000000'], dtype='datetime64[ns]')"
      ]
     },
     "execution_count": 9,
     "metadata": {},
     "output_type": "execute_result"
    }
   ],
   "source": [
    "data_rides.loc[:,'date'].astype('datetime64[Y]').unique()"
   ]
  },
  {
   "cell_type": "markdown",
   "id": "02942783",
   "metadata": {},
   "source": [
    "Информация в данных за 2021 год"
   ]
  },
  {
   "cell_type": "markdown",
   "id": "5932496d",
   "metadata": {},
   "source": [
    "Так же мы видим, что, как и в предыдущей таблице, пропусков в этой нет. Однако, целесообразно округлить значения в столбцах `distance` и `duration` до целых, так как данные в них в метрах и минутах соответственно."
   ]
  },
  {
   "cell_type": "markdown",
   "id": "e1743d5a",
   "metadata": {},
   "source": [
    "Построим график по столбцам `distance` и `duration` ."
   ]
  },
  {
   "cell_type": "code",
   "execution_count": 10,
   "id": "93bbc89f",
   "metadata": {},
   "outputs": [
    {
     "data": {
      "image/png": "[encoded data removed]",
      "text/plain": [
       "<Figure size 720x360 with 1 Axes>"
      ]
     },
     "metadata": {
      "needs_background": "light"
     },
     "output_type": "display_data"
    },
    {
     "data": {
      "image/png": "[encoded data removed]",
      "text/plain": [
       "<Figure size 720x360 with 1 Axes>"
      ]
     },
     "metadata": {
      "needs_background": "light"
     },
     "output_type": "display_data"
    }
   ],
   "source": [
    "data_rides['distance'].plot(kind='hist', figsize = (10,5), bins=50, grid=True)\n",
    "# Добавляем заголовок\n",
    "plt.title('Расспределение расстояния за одну поездку')\n",
    "# Добавляем подпись оси X\n",
    "plt.xlabel('расстояние, м')\n",
    "plt.show()\n",
    "data_rides['duration'].plot(kind='hist', figsize = (10,5), bins=20, grid=True)\n",
    "# Добавляем заголовок\n",
    "plt.title('Расспределение времени одной поездки')\n",
    "# Добавляем подпись оси X\n",
    "plt.xlabel('время, мин')\n",
    "plt.show()"
   ]
  },
  {
   "cell_type": "markdown",
   "id": "5819aceb",
   "metadata": {},
   "source": [
    "По гистограммам можно сказать, что серьезных аномалий в данных не неблюдается, однако имеет смысл более глубоко изучить данные столбца `distance`(распределение данных нельзя назвать нормальным)"
   ]
  },
  {
   "cell_type": "markdown",
   "id": "dd62cff2",
   "metadata": {},
   "source": [
    "Воспользуемся методом  ***info()*** применительно к таблице **`data_subscriptions`** и выведем саму таблицу"
   ]
  },
  {
   "cell_type": "code",
   "execution_count": 11,
   "id": "bd90112a",
   "metadata": {
    "scrolled": true
   },
   "outputs": [
    {
     "name": "stdout",
     "output_type": "stream",
     "text": [
      "\n",
      "\n",
      " Данные о подписках\n"
     ]
    },
    {
     "data": {
      "text/html": [
       "<style  type=\"text/css\" >\n",
       "    #T_140c7_ td {\n",
       "          border: 1px solid black;\n",
       "    }    #T_140c7_ th {\n",
       "          border: 1px solid black;\n",
       "    }#T_140c7_row0_col0,#T_140c7_row0_col1,#T_140c7_row0_col2,#T_140c7_row0_col3,#T_140c7_row1_col0,#T_140c7_row1_col1,#T_140c7_row1_col2,#T_140c7_row1_col3{\n",
       "            background-color:  white;\n",
       "            color:  black;\n",
       "        }</style><table id=\"T_140c7_\" ><thead>    <tr>        <th class=\"blank level0\" ></th>        <th class=\"col_heading level0 col0\" >subscription_type</th>        <th class=\"col_heading level0 col1\" >minute_price</th>        <th class=\"col_heading level0 col2\" >start_ride_price</th>        <th class=\"col_heading level0 col3\" >subscription_fee</th>    </tr></thead><tbody>\n",
       "                <tr>\n",
       "                        <th id=\"T_140c7_level0_row0\" class=\"row_heading level0 row0\" >0</th>\n",
       "                        <td id=\"T_140c7_row0_col0\" class=\"data row0 col0\" >free</td>\n",
       "                        <td id=\"T_140c7_row0_col1\" class=\"data row0 col1\" >8</td>\n",
       "                        <td id=\"T_140c7_row0_col2\" class=\"data row0 col2\" >50</td>\n",
       "                        <td id=\"T_140c7_row0_col3\" class=\"data row0 col3\" >0</td>\n",
       "            </tr>\n",
       "            <tr>\n",
       "                        <th id=\"T_140c7_level0_row1\" class=\"row_heading level0 row1\" >1</th>\n",
       "                        <td id=\"T_140c7_row1_col0\" class=\"data row1 col0\" >ultra</td>\n",
       "                        <td id=\"T_140c7_row1_col1\" class=\"data row1 col1\" >6</td>\n",
       "                        <td id=\"T_140c7_row1_col2\" class=\"data row1 col2\" >0</td>\n",
       "                        <td id=\"T_140c7_row1_col3\" class=\"data row1 col3\" >199</td>\n",
       "            </tr>\n",
       "    </tbody></table>"
      ],
      "text/plain": [
       "<pandas.io.formats.style.Styler at 0x1328b6190>"
      ]
     },
     "metadata": {},
     "output_type": "display_data"
    },
    {
     "name": "stdout",
     "output_type": "stream",
     "text": [
      "\n",
      "<class 'pandas.core.frame.DataFrame'>\n",
      "RangeIndex: 2 entries, 0 to 1\n",
      "Data columns (total 4 columns):\n",
      " #   Column             Non-Null Count  Dtype \n",
      "---  ------             --------------  ----- \n",
      " 0   subscription_type  2 non-null      object\n",
      " 1   minute_price       2 non-null      int64 \n",
      " 2   start_ride_price   2 non-null      int64 \n",
      " 3   subscription_fee   2 non-null      int64 \n",
      "dtypes: int64(3), object(1)\n",
      "memory usage: 192.0+ bytes\n"
     ]
    }
   ],
   "source": [
    "start_info('Данные о подписках',data_subscriptions)"
   ]
  },
  {
   "cell_type": "markdown",
   "id": "c3dd298e",
   "metadata": {},
   "source": [
    "Данная таблица состоит всего из двух строк и не имеет пропусков, так же столбцы, содержащие числовые данные имеют тип ***int***"
   ]
  },
  {
   "cell_type": "markdown",
   "id": "335bc2be",
   "metadata": {},
   "source": [
    "Все три таблицы, которые потребуются для анализа, были рассмотрены. В данных не было обнаружено пропусков, однако имеет смысл изменить тип данных в столбцах `distance` и `duration` таблицы **`data_rides`**. Так же, в этой таблице имеет смысл более детально изучить данные в столбце `distance`"
   ]
  },
  {
   "cell_type": "markdown",
   "id": "305d8957",
   "metadata": {},
   "source": [
    "Перейдем к предобработке данных"
   ]
  },
  {
   "cell_type": "markdown",
   "id": "e95ebca7",
   "metadata": {},
   "source": [
    "#### Шаг 2. Предобработка данных"
   ]
  },
  {
   "cell_type": "markdown",
   "id": "6ca27fd3",
   "metadata": {},
   "source": [
    "##### Изменение типа данных"
   ]
  },
  {
   "cell_type": "markdown",
   "id": "1d4c0490",
   "metadata": {},
   "source": [
    "Изменим тип данных, в столбцах, `distance` и `duration` таблицы **`data_rides`**. Данные в `distance` и `duration` предварительно округлим до целых чисел (метров и минут соответственно)"
   ]
  },
  {
   "cell_type": "code",
   "execution_count": 12,
   "id": "5de2d658",
   "metadata": {},
   "outputs": [],
   "source": [
    "data_rides['distance'] = round(data_rides['distance'],0).astype('int')\n",
    "# Время округляем до большего целого числа\n",
    "data_rides['duration'] = np.ceil(data_rides['duration']).astype('int')"
   ]
  },
  {
   "cell_type": "markdown",
   "id": "50a809ce",
   "metadata": {},
   "source": [
    "##### Поиск дубликатов"
   ]
  },
  {
   "cell_type": "markdown",
   "id": "89ddf414",
   "metadata": {},
   "source": [
    "Произведем поиск неявных дубликатов"
   ]
  },
  {
   "cell_type": "code",
   "execution_count": 13,
   "id": "3d2ed033",
   "metadata": {},
   "outputs": [
    {
     "name": "stdout",
     "output_type": "stream",
     "text": [
      "Количество уникальных имен: 194\n"
     ]
    },
    {
     "data": {
      "text/plain": [
       "array(['Агата', 'Аделина', 'Адель', 'Айдар', 'Александр', 'Александра',\n",
       "       'Алексей', 'Алина', 'Алиса', 'Алия', 'Алла', 'Альберт', 'Альбина',\n",
       "       'Алёна', 'Амалия', 'Амина', 'Амир', 'Анастасия', 'Анатолий',\n",
       "       'Ангелина', 'Андрей', 'Анжелика', 'Анна', 'Антон', 'Антонина',\n",
       "       'Ариана', 'Арина', 'Арсен', 'Арсений', 'Артемий', 'Артур', 'Артём',\n",
       "       'Богдан', 'Борис', 'Вадим', 'Валентина', 'Валерий', 'Валерия',\n",
       "       'Варвара', 'Василий', 'Василина', 'Василиса', 'Вера', 'Вероника',\n",
       "       'Виктор', 'Виктория', 'Виолетта', 'Виталий', 'Виталина', 'Влад',\n",
       "       'Влада', 'Владимир', 'Владислав', 'Владислава', 'Всеволод',\n",
       "       'Вячеслав', 'Галина', 'Георгий', 'Герман', 'Глеб', 'Гордей',\n",
       "       'Григорий', 'Давид', 'Дамир', 'Даниил', 'Данил', 'Данила',\n",
       "       'Даниэль', 'Дарина', 'Дарья', 'Демид', 'Денис', 'Диана', 'Дмитрий',\n",
       "       'Ева', 'Евгений', 'Евгения', 'Егор', 'Екатерина', 'Елена',\n",
       "       'Елизавета', 'Елисей', 'Есения', 'Жанна', 'Зарина', 'Захар',\n",
       "       'Злата', 'Иван', 'Игнат', 'Игорь', 'Ильдар', 'Илья', 'Инна',\n",
       "       'Ирина', 'Камилла', 'Карина', 'Каролина', 'Кира', 'Кирилл',\n",
       "       'Константин', 'Кристина', 'Ксения', 'Лариса', 'Лев', 'Леонид',\n",
       "       'Лиана', 'Лидия', 'Лилия', 'Любовь', 'Людмила', 'Мадина', 'Майя',\n",
       "       'Макар', 'Максим', 'Марат', 'Маргарита', 'Марина', 'Мария', 'Марк',\n",
       "       'Марсель', 'Матвей', 'Мелания', 'Милана', 'Милена', 'Мирон',\n",
       "       'Мирослав', 'Мирослава', 'Михаил', 'Назар', 'Наталия', 'Наталья',\n",
       "       'Наташа', 'Нелли', 'Ника', 'Никита', 'Николай', 'Нина', 'Одиссей',\n",
       "       'Оксана', 'Олег', 'Олеся', 'Ольга', 'Павел', 'Петр', 'Платон',\n",
       "       'Полина', 'Радмир', 'Рамиль', 'Регина', 'Роберт', 'Родион',\n",
       "       'Роман', 'Ростислав', 'Руслан', 'Рустам', 'Савелий', 'Самир',\n",
       "       'Самира', 'Светлана', 'Святогор', 'Святослав', 'Семен', 'Сергей',\n",
       "       'Снежана', 'София', 'Софья', 'Станислав', 'Степан', 'Стефания',\n",
       "       'Таисия', 'Тамара', 'Тамерлан', 'Татьяна', 'Тимофей', 'Тимур',\n",
       "       'Тихон', 'Ульяна', 'Федор', 'Эвелина', 'Эдуард', 'Элина',\n",
       "       'Эльвира', 'Эльмира', 'Эмилия', 'Эмиль', 'Юлиана', 'Юлия', 'Юрий',\n",
       "       'Ян', 'Яна', 'Яромир', 'Ярослав', 'Ярослава', 'Ясмина'],\n",
       "      dtype=object)"
      ]
     },
     "execution_count": 13,
     "metadata": {},
     "output_type": "execute_result"
    }
   ],
   "source": [
    "print(\"Количество уникальных имен:\",data_users['name'].nunique())\n",
    "data_users = data_users.sort_values('name')\n",
    "data_users['name'].unique()"
   ]
  },
  {
   "cell_type": "markdown",
   "id": "9c60dae6",
   "metadata": {},
   "source": [
    "Повторов обнаружено не было"
   ]
  },
  {
   "cell_type": "code",
   "execution_count": 14,
   "id": "77325940",
   "metadata": {},
   "outputs": [
    {
     "name": "stdout",
     "output_type": "stream",
     "text": [
      "Количество уникальных названий городов: 8\n"
     ]
    },
    {
     "data": {
      "text/plain": [
       "array(['Екатеринбург', 'Ростов-на-Дону', 'Краснодар', 'Омск', 'Тюмень',\n",
       "       'Сочи', 'Москва', 'Пятигорск'], dtype=object)"
      ]
     },
     "execution_count": 14,
     "metadata": {},
     "output_type": "execute_result"
    }
   ],
   "source": [
    "print(\"Количество уникальных названий городов:\",data_users['city'].nunique())\n",
    "data_users['city'].unique()"
   ]
  },
  {
   "cell_type": "code",
   "execution_count": 15,
   "id": "54caecde",
   "metadata": {},
   "outputs": [
    {
     "name": "stdout",
     "output_type": "stream",
     "text": [
      "Количество уникальных названий: 2\n"
     ]
    },
    {
     "data": {
      "text/plain": [
       "array(['ultra', 'free'], dtype=object)"
      ]
     },
     "execution_count": 15,
     "metadata": {},
     "output_type": "execute_result"
    }
   ],
   "source": [
    "print(\"Количество уникальных названий:\",data_users['subscription_type'].nunique())\n",
    "data_users['subscription_type'].unique()"
   ]
  },
  {
   "cell_type": "markdown",
   "id": "c59e20f9",
   "metadata": {},
   "source": [
    "Неявных дубликатов обнаружено не было"
   ]
  },
  {
   "cell_type": "markdown",
   "id": "ed4f909c",
   "metadata": {},
   "source": [
    "Проверим наличие явных дубликатов"
   ]
  },
  {
   "cell_type": "code",
   "execution_count": 16,
   "id": "be23dd52",
   "metadata": {
    "scrolled": true
   },
   "outputs": [
    {
     "name": "stdout",
     "output_type": "stream",
     "text": [
      "Количество явных дубликатов в data_users: 31\n",
      "Количество явных дубликатов в data_rides: 0\n",
      "Количество явных дубликатов в data_subscriptions: 0\n"
     ]
    }
   ],
   "source": [
    "print(\"Количество явных дубликатов в data_users:\", data_users.duplicated().sum())\n",
    "print(\"Количество явных дубликатов в data_rides:\", data_rides.duplicated().sum())\n",
    "print(\"Количество явных дубликатов в data_subscriptions:\", data_subscriptions.duplicated().sum())"
   ]
  },
  {
   "cell_type": "markdown",
   "id": "7812236f",
   "metadata": {},
   "source": [
    "Избавимся от явных дубликатов"
   ]
  },
  {
   "cell_type": "code",
   "execution_count": 17,
   "id": "ba417d76",
   "metadata": {},
   "outputs": [],
   "source": [
    "data_users = data_users.drop_duplicates()"
   ]
  },
  {
   "cell_type": "code",
   "execution_count": 18,
   "id": "e3a4274c",
   "metadata": {},
   "outputs": [
    {
     "name": "stdout",
     "output_type": "stream",
     "text": [
      "Количество явных дубликатов в data_users: 0\n"
     ]
    }
   ],
   "source": [
    "print(\"Количество явных дубликатов в data_users:\", data_users.duplicated().sum())"
   ]
  },
  {
   "cell_type": "markdown",
   "id": "eef4c883",
   "metadata": {},
   "source": [
    "##### Проверка данных на аномальные и выбивающиеся значения.\n"
   ]
  },
  {
   "cell_type": "markdown",
   "id": "f918c867",
   "metadata": {},
   "source": [
    "На этапе знакомства с таблицами данных, было принято решение более детально рассмотреть столбец `distance` таблицы **`data_rides`** "
   ]
  },
  {
   "cell_type": "markdown",
   "id": "fb425744",
   "metadata": {},
   "source": [
    "Еще раз построим график"
   ]
  },
  {
   "cell_type": "code",
   "execution_count": 19,
   "id": "8781ed9b",
   "metadata": {},
   "outputs": [
    {
     "data": {
      "image/png": "[encoded data removed]",
      "text/plain": [
       "<Figure size 720x360 with 1 Axes>"
      ]
     },
     "metadata": {
      "needs_background": "light"
     },
     "output_type": "display_data"
    }
   ],
   "source": [
    "data_rides['distance'].plot(kind='hist', figsize = (10,5), bins=50, grid=True)\n",
    "# Добавляем заголовок\n",
    "plt.title('Расспределение расстояния за одну поездку')\n",
    "# Добавляем подпись оси X\n",
    "plt.xlabel('расстояние, м')\n",
    "plt.show()"
   ]
  },
  {
   "cell_type": "markdown",
   "id": "793ce4a0",
   "metadata": {},
   "source": [
    "Помотрим статистическую сводку столбца `distance`"
   ]
  },
  {
   "cell_type": "code",
   "execution_count": 20,
   "id": "2c308399",
   "metadata": {},
   "outputs": [
    {
     "data": {
      "text/plain": [
       "count    18068.000000\n",
       "mean      3070.659010\n",
       "std       1116.832209\n",
       "min          1.000000\n",
       "25%       2543.000000\n",
       "50%       3134.000000\n",
       "75%       3776.000000\n",
       "max       7211.000000\n",
       "Name: distance, dtype: float64"
      ]
     },
     "execution_count": 20,
     "metadata": {},
     "output_type": "execute_result"
    }
   ],
   "source": [
    "data_rides['distance'].describe()"
   ]
  },
  {
   "cell_type": "code",
   "execution_count": 21,
   "id": "b25ea5ae",
   "metadata": {
    "scrolled": true
   },
   "outputs": [
    {
     "data": {
      "image/png": "[encoded data removed]",
      "text/plain": [
       "<Figure size 864x216 with 1 Axes>"
      ]
     },
     "metadata": {
      "needs_background": "light"
     },
     "output_type": "display_data"
    }
   ],
   "source": [
    "def box(dt,col,name):\n",
    "    dt.boxplot(column=col,vert=False, figsize = (12,3))\n",
    "    # Добавляем заголовок\n",
    "    plt.title('Диаграмма размаха: ' + name)\n",
    "    # Добавляем подпись оси X\n",
    "    plt.xlabel(name)\n",
    "    plt.show()\n",
    "\n",
    "box(data_rides,'distance','расстояние поездки, м')"
   ]
  },
  {
   "cell_type": "markdown",
   "id": "d9cbd3b6",
   "metadata": {},
   "source": [
    "Построим аналогичную диаграмму по срезу данных, в которые будет входить дистанция, ограниченная **\"верхним усом\"** , то есть суммы величины третьего квартиля ***(Q3)*** и умноженной на 1,5 межквартильным размахом ***(Q3-Q1)*** то есть ***Q3+1.5x(Q3-Q1)***, и **\"нижним усом\"** -  ***Q1- 1.5x(Q3-Q1)***"
   ]
  },
  {
   "cell_type": "code",
   "execution_count": 22,
   "id": "4b928ec9",
   "metadata": {},
   "outputs": [
    {
     "data": {
      "image/png": "[encoded data removed]",
      "text/plain": [
       "<Figure size 864x216 with 1 Axes>"
      ]
     },
     "metadata": {
      "needs_background": "light"
     },
     "output_type": "display_data"
    }
   ],
   "source": [
    "us_top = data_rides['distance'].describe()['75%']+ \\\n",
    "    (1.5*(data_rides['distance'].describe()['75%'] - data_rides['distance'].describe()['25%']))\n",
    "\n",
    "us_lower = data_rides['distance'].describe()['25%']- \\\n",
    "    (1.5*(data_rides['distance'].describe()['75%'] - data_rides['distance'].describe()['25%']))\n",
    "\n",
    "data_rides_new = data_rides.query('(distance<= @us_top) & (distance>=@us_lower)')\n",
    "\n",
    "\n",
    "box(data_rides_new,'distance','расстояние поездки, м')"
   ]
  },
  {
   "cell_type": "markdown",
   "id": "554c03cc",
   "metadata": {},
   "source": [
    "Теперь диаграмма стала более наглядной. Проверим сколько строк было \"откинуто\" и посмотрим, как изменились статистические значения. "
   ]
  },
  {
   "cell_type": "code",
   "execution_count": 23,
   "id": "9d1b7dc1",
   "metadata": {},
   "outputs": [
    {
     "name": "stdout",
     "output_type": "stream",
     "text": [
      "Новый набор данных меньше на  1036  строк,( 6.0 %)\n"
     ]
    },
    {
     "data": {
      "text/plain": [
       "count    17032.0\n",
       "mean      3192.0\n",
       "std        929.0\n",
       "min        694.0\n",
       "25%       2644.0\n",
       "50%       3174.0\n",
       "75%       3806.0\n",
       "max       5623.0\n",
       "Name: distance, dtype: float64"
      ]
     },
     "execution_count": 23,
     "metadata": {},
     "output_type": "execute_result"
    }
   ],
   "source": [
    "print(\"Новый набор данных меньше на \", \\\n",
    "      data_rides['distance'].count() - data_rides_new['distance'].count(),\\\n",
    "      \" строк,(\", \\\n",
    "      round(((data_rides['distance'].count() - data_rides_new['distance'].count())/\n",
    "       data_rides['distance'].count())*100,0),\"%)\") \\\n",
    "\n",
    "data_rides_new['distance'].describe().round(0)"
   ]
  },
  {
   "cell_type": "markdown",
   "id": "32feee69",
   "metadata": {},
   "source": [
    "Нам нужно откинуть всего 6% строк, однако от проеханного расстояния расчет выручки компании не зависит, на сбой при сборе информации это не похоже(выбросы не являются критичными и подозрительно аномальными). \n",
    "\n",
    "Возможно пользователи берут самокаты, чтобы доехать от дома до остановки или на похожие нужды, то есть используют не как основное, а как дополнительное средство передвижения. Поэтому гистограмма отражает пик части таких пользователей на расстоянии поездки равным приблизительно 500м\n",
    "\n",
    "Принимаем решение оставить данные без изменений."
   ]
  },
  {
   "cell_type": "markdown",
   "id": "173c9aa2",
   "metadata": {},
   "source": [
    "##### Добавление дополнительных столбцов"
   ]
  },
  {
   "cell_type": "markdown",
   "id": "4c09e859",
   "metadata": {},
   "source": [
    "В анализе нам потребуется месяц совершения поездки. Добавим в таблицу новый столбец `month`, на основе имеющихся данных в столбце `date`."
   ]
  },
  {
   "cell_type": "code",
   "execution_count": 24,
   "id": "a2ef50f2",
   "metadata": {},
   "outputs": [
    {
     "data": {
      "text/html": [
       "<div>\n",
       "<style scoped>\n",
       "    .dataframe tbody tr th:only-of-type {\n",
       "        vertical-align: middle;\n",
       "    }\n",
       "\n",
       "    .dataframe tbody tr th {\n",
       "        vertical-align: top;\n",
       "    }\n",
       "\n",
       "    .dataframe thead th {\n",
       "        text-align: right;\n",
       "    }\n",
       "</style>\n",
       "<table border=\"1\" class=\"dataframe\">\n",
       "  <thead>\n",
       "    <tr style=\"text-align: right;\">\n",
       "      <th></th>\n",
       "      <th>user_id</th>\n",
       "      <th>distance</th>\n",
       "      <th>duration</th>\n",
       "      <th>date</th>\n",
       "      <th>month</th>\n",
       "    </tr>\n",
       "  </thead>\n",
       "  <tbody>\n",
       "    <tr>\n",
       "      <th>0</th>\n",
       "      <td>1</td>\n",
       "      <td>4410</td>\n",
       "      <td>26</td>\n",
       "      <td>2021-01-01</td>\n",
       "      <td>2021-01-01</td>\n",
       "    </tr>\n",
       "    <tr>\n",
       "      <th>1</th>\n",
       "      <td>1</td>\n",
       "      <td>2618</td>\n",
       "      <td>16</td>\n",
       "      <td>2021-01-18</td>\n",
       "      <td>2021-01-01</td>\n",
       "    </tr>\n",
       "    <tr>\n",
       "      <th>2</th>\n",
       "      <td>1</td>\n",
       "      <td>754</td>\n",
       "      <td>7</td>\n",
       "      <td>2021-04-20</td>\n",
       "      <td>2021-04-01</td>\n",
       "    </tr>\n",
       "    <tr>\n",
       "      <th>3</th>\n",
       "      <td>1</td>\n",
       "      <td>2695</td>\n",
       "      <td>19</td>\n",
       "      <td>2021-08-11</td>\n",
       "      <td>2021-08-01</td>\n",
       "    </tr>\n",
       "    <tr>\n",
       "      <th>4</th>\n",
       "      <td>1</td>\n",
       "      <td>4029</td>\n",
       "      <td>27</td>\n",
       "      <td>2021-08-28</td>\n",
       "      <td>2021-08-01</td>\n",
       "    </tr>\n",
       "    <tr>\n",
       "      <th>...</th>\n",
       "      <td>...</td>\n",
       "      <td>...</td>\n",
       "      <td>...</td>\n",
       "      <td>...</td>\n",
       "      <td>...</td>\n",
       "    </tr>\n",
       "    <tr>\n",
       "      <th>18063</th>\n",
       "      <td>1534</td>\n",
       "      <td>3781</td>\n",
       "      <td>20</td>\n",
       "      <td>2021-11-04</td>\n",
       "      <td>2021-11-01</td>\n",
       "    </tr>\n",
       "    <tr>\n",
       "      <th>18064</th>\n",
       "      <td>1534</td>\n",
       "      <td>2840</td>\n",
       "      <td>22</td>\n",
       "      <td>2021-11-16</td>\n",
       "      <td>2021-11-01</td>\n",
       "    </tr>\n",
       "    <tr>\n",
       "      <th>18065</th>\n",
       "      <td>1534</td>\n",
       "      <td>3826</td>\n",
       "      <td>19</td>\n",
       "      <td>2021-11-18</td>\n",
       "      <td>2021-11-01</td>\n",
       "    </tr>\n",
       "    <tr>\n",
       "      <th>18066</th>\n",
       "      <td>1534</td>\n",
       "      <td>2902</td>\n",
       "      <td>17</td>\n",
       "      <td>2021-11-27</td>\n",
       "      <td>2021-11-01</td>\n",
       "    </tr>\n",
       "    <tr>\n",
       "      <th>18067</th>\n",
       "      <td>1534</td>\n",
       "      <td>2372</td>\n",
       "      <td>16</td>\n",
       "      <td>2021-12-29</td>\n",
       "      <td>2021-12-01</td>\n",
       "    </tr>\n",
       "  </tbody>\n",
       "</table>\n",
       "<p>18068 rows × 5 columns</p>\n",
       "</div>"
      ],
      "text/plain": [
       "       user_id  distance  duration       date      month\n",
       "0            1      4410        26 2021-01-01 2021-01-01\n",
       "1            1      2618        16 2021-01-18 2021-01-01\n",
       "2            1       754         7 2021-04-20 2021-04-01\n",
       "3            1      2695        19 2021-08-11 2021-08-01\n",
       "4            1      4029        27 2021-08-28 2021-08-01\n",
       "...        ...       ...       ...        ...        ...\n",
       "18063     1534      3781        20 2021-11-04 2021-11-01\n",
       "18064     1534      2840        22 2021-11-16 2021-11-01\n",
       "18065     1534      3826        19 2021-11-18 2021-11-01\n",
       "18066     1534      2902        17 2021-11-27 2021-11-01\n",
       "18067     1534      2372        16 2021-12-29 2021-12-01\n",
       "\n",
       "[18068 rows x 5 columns]"
      ]
     },
     "execution_count": 24,
     "metadata": {},
     "output_type": "execute_result"
    }
   ],
   "source": [
    "data_rides.loc[:,'month'] =  data_rides.loc[:,'date'].astype('datetime64[M]')\n",
    "data_rides"
   ]
  },
  {
   "cell_type": "markdown",
   "id": "fce8e9f2",
   "metadata": {},
   "source": [
    "В данном разделе были изменены типы данных в некоторых столбцах; таблицы были проверены на пропуски; удалены дублирующиеся строки, так же была произведена проверна на наличие неявных дубликатов. Завершающим этапом был добавлен требуемый для дальнейшего анализа столбец."
   ]
  },
  {
   "cell_type": "markdown",
   "id": "212593c7",
   "metadata": {},
   "source": [
    "#### Шаг 3. Исследовательский анализ данных"
   ]
  },
  {
   "cell_type": "markdown",
   "id": "82d8c18e",
   "metadata": {},
   "source": [
    "##### Частота встречаемости городов"
   ]
  },
  {
   "cell_type": "code",
   "execution_count": 25,
   "id": "326b1305",
   "metadata": {},
   "outputs": [
    {
     "name": "stdout",
     "output_type": "stream",
     "text": [
      "Город \t\t Кол-во\n",
      "\n",
      "Пятигорск         219\n",
      "Екатеринбург      204\n",
      "Ростов-на-Дону    198\n",
      "Краснодар         193\n",
      "Сочи              189\n",
      "Омск              183\n",
      "Тюмень            180\n",
      "Москва            168\n",
      "Name: city, dtype: int64\n"
     ]
    },
    {
     "data": {
      "image/png": "[encoded data removed]",
      "text/plain": [
       "<Figure size 720x360 with 1 Axes>"
      ]
     },
     "metadata": {
      "needs_background": "light"
     },
     "output_type": "display_data"
    }
   ],
   "source": [
    "data_users.groupby('city')['city'].count().sort_values().plot(kind='barh', figsize = (10,5), grid=True)\n",
    "# Добавляем заголовок\n",
    "plt.title('Диаграмма представленных городов')\n",
    "# Добавляем подпись оси X и Y\n",
    "plt.xlabel('количество')\n",
    "plt.ylabel('город')\n",
    "# Поворачиваем метки на оси X на 90 градусов для вертикального отображения\n",
    "#plt.xticks(rotation=90)\n",
    "print('Город \\t\\t Кол-во\\n')\n",
    "print(data_users['city'].value_counts())"
   ]
  },
  {
   "cell_type": "code",
   "execution_count": 26,
   "id": "acdf36e5",
   "metadata": {},
   "outputs": [
    {
     "data": {
      "text/markdown": [
       "Мы видим, что максимальное количество пользователей сервиса аренды самокатов GoFast находится в Пятигорске (219 человек). Минимальное - в Москве(168человек). Разница между ними - 23 %. Возможно, сеть начала свое развитие с менее крупных городов. Так же в Москве может быть больше конкуренции."
      ],
      "text/plain": [
       "<IPython.core.display.Markdown object>"
      ]
     },
     "metadata": {},
     "output_type": "display_data"
    }
   ],
   "source": [
    "town = round((((data_users['city'].value_counts()['Пятигорск'])-(data_users['city'].value_counts()['Москва']))/\n",
    "              (data_users['city'].value_counts()['Пятигорск']))*100,0).astype('int')\n",
    "\n",
    "display(Markdown(\n",
    "f\"Мы видим, что максимальное количество пользователей сервиса аренды самокатов GoFast находится в Пятигорске \\\n",
    "({data_users['city'].value_counts()['Пятигорск']} человек). Минимальное - в Москве\\\n",
    "({data_users['city'].value_counts()['Москва']}человек). \\\n",
    "Разница между ними - {town} %. Возможно, сеть начала свое развитие с менее крупных городов.\\\n",
    " Так же в Москве может быть больше конкуренции.\"))"
   ]
  },
  {
   "cell_type": "markdown",
   "id": "062d2a72",
   "metadata": {},
   "source": [
    "##### Cоотношение пользователей с подпиской и без подписки"
   ]
  },
  {
   "cell_type": "markdown",
   "id": "5b30f222",
   "metadata": {},
   "source": [
    "Посмотрим сколько пользователей с подпиской и сколько без"
   ]
  },
  {
   "cell_type": "code",
   "execution_count": 27,
   "id": "d3ff9f2a",
   "metadata": {},
   "outputs": [
    {
     "data": {
      "text/html": [
       "<div>\n",
       "<style scoped>\n",
       "    .dataframe tbody tr th:only-of-type {\n",
       "        vertical-align: middle;\n",
       "    }\n",
       "\n",
       "    .dataframe tbody tr th {\n",
       "        vertical-align: top;\n",
       "    }\n",
       "\n",
       "    .dataframe thead th {\n",
       "        text-align: right;\n",
       "    }\n",
       "</style>\n",
       "<table border=\"1\" class=\"dataframe\">\n",
       "  <thead>\n",
       "    <tr style=\"text-align: right;\">\n",
       "      <th></th>\n",
       "      <th>user_id</th>\n",
       "      <th>% от Всего</th>\n",
       "    </tr>\n",
       "    <tr>\n",
       "      <th>subscription_type</th>\n",
       "      <th></th>\n",
       "      <th></th>\n",
       "    </tr>\n",
       "  </thead>\n",
       "  <tbody>\n",
       "    <tr>\n",
       "      <th>free</th>\n",
       "      <td>835</td>\n",
       "      <td>54</td>\n",
       "    </tr>\n",
       "    <tr>\n",
       "      <th>ultra</th>\n",
       "      <td>699</td>\n",
       "      <td>46</td>\n",
       "    </tr>\n",
       "    <tr>\n",
       "      <th>Всего</th>\n",
       "      <td>1534</td>\n",
       "      <td>100</td>\n",
       "    </tr>\n",
       "  </tbody>\n",
       "</table>\n",
       "</div>"
      ],
      "text/plain": [
       "                   user_id  % от Всего\n",
       "subscription_type                     \n",
       "free                   835          54\n",
       "ultra                  699          46\n",
       "Всего                 1534         100"
      ]
     },
     "execution_count": 27,
     "metadata": {},
     "output_type": "execute_result"
    },
    {
     "data": {
      "image/png": "[encoded data removed]",
      "text/plain": [
       "<Figure size 720x360 with 1 Axes>"
      ]
     },
     "metadata": {
      "needs_background": "light"
     },
     "output_type": "display_data"
    }
   ],
   "source": [
    "# Создадим сводную таблицу   \n",
    "df = data_users.pivot_table(index= 'subscription_type', \n",
    "                            values='user_id', \n",
    "                            aggfunc='count')\n",
    "# Добавление строки с общей суммой\n",
    "df.loc['Всего'] = df['user_id'].sum()\n",
    "# Добавление столбца с процентами\n",
    "df['% от Всего'] = round((df['user_id'] / df.loc['Всего', 'user_id']) * 100,0).astype('int')\n",
    "df1=df\n",
    "#Удалим строку Всего, чтобы построить график\n",
    "df1 = df1.drop('Всего')\n",
    "df1.plot(kind='bar',y='user_id', figsize = (10,5), grid=True)\n",
    "# Добавляем заголовок\n",
    "plt.title('Cоотношение пользователей с подпиской и без подписки')\n",
    "# Добавляем подпись оси X и Y\n",
    "plt.xlabel('наличие подписки')\n",
    "plt.ylabel('количество')\n",
    "plt.xticks(rotation=0)\n",
    "df"
   ]
  },
  {
   "cell_type": "markdown",
   "id": "aa1e9fe3",
   "metadata": {},
   "source": [
    "Мы видим, что почти половина пользователей сервиса GoFast  имеют подписку (46%)."
   ]
  },
  {
   "cell_type": "markdown",
   "id": "ce5a7884",
   "metadata": {},
   "source": [
    "##### Возраст пользователей"
   ]
  },
  {
   "cell_type": "markdown",
   "id": "1121a43d",
   "metadata": {},
   "source": [
    "Теперь посмотрим какого возраста пользователи сервиса"
   ]
  },
  {
   "cell_type": "code",
   "execution_count": 28,
   "id": "1662879e",
   "metadata": {},
   "outputs": [
    {
     "data": {
      "image/png": "[encoded data removed]",
      "text/plain": [
       "<Figure size 720x360 with 1 Axes>"
      ]
     },
     "metadata": {
      "needs_background": "light"
     },
     "output_type": "display_data"
    }
   ],
   "source": [
    "# Создадим сводную таблицу   \n",
    "df1 = data_users.pivot_table(index= 'age', \n",
    "                            values='user_id', \n",
    "                            aggfunc='count')\n",
    "\n",
    "\n",
    "df1.sort_values('user_id').plot(kind='bar', figsize = (10,5), grid=True)\n",
    "# Добавляем заголовок\n",
    "plt.title('Диаграмма возраста пользователей')\n",
    "# Добавляем подпись оси X и Y\n",
    "plt.xlabel('возраст')\n",
    "plt.ylabel('количество')\n",
    "\n",
    "plt.show()"
   ]
  },
  {
   "cell_type": "markdown",
   "id": "c9dbded7",
   "metadata": {},
   "source": [
    "Сервисом аренды самокатов пользуются подростки и взрослые, то есть люди, начиная от 12 и до 43 лет. При этом среди пользователей чаще встречаются люди среднего возраста(23-26лет)."
   ]
  },
  {
   "cell_type": "code",
   "execution_count": 29,
   "id": "ec54157e",
   "metadata": {},
   "outputs": [
    {
     "name": "stdout",
     "output_type": "stream",
     "text": [
      "Количество пользователей возрастом от 23 до 26 лет составляют 35 % от общего числа пользователей\n",
      "При этом подростков возрастом от 13 до 15 лет всего  2 % от общего числа пользователей\n"
     ]
    }
   ],
   "source": [
    "print(\"Количество пользователей возрастом от 23 до 26 лет составляют\",round(((df1.loc[23, 'user_id'] + \n",
    "             df1.loc[24, 'user_id']+ \n",
    "             df1.loc[25, 'user_id']+ \n",
    "             df1.loc[26, 'user_id'])/df1['user_id'].sum()*100),0).astype('int'), \"% от общего числа пользователей\")\n",
    "\n",
    "print(\"При этом подростков возрастом от 13 до 15 лет всего \",round(((df1.loc[12, 'user_id'] + \n",
    "             df1.loc[13, 'user_id']+ \n",
    "             df1.loc[14, 'user_id']+ \n",
    "             df1.loc[15, 'user_id'])/df1['user_id'].sum()*100),0).astype('int'), \"% от общего числа пользователей\")"
   ]
  },
  {
   "cell_type": "markdown",
   "id": "779fae52",
   "metadata": {},
   "source": [
    "Теперь взглянем на гистограмму"
   ]
  },
  {
   "cell_type": "code",
   "execution_count": 30,
   "id": "0b779051",
   "metadata": {},
   "outputs": [
    {
     "data": {
      "image/png": "[encoded data removed]",
      "text/plain": [
       "<Figure size 720x360 with 1 Axes>"
      ]
     },
     "metadata": {
      "needs_background": "light"
     },
     "output_type": "display_data"
    }
   ],
   "source": [
    "data_users['age'].plot(kind='hist', figsize = (10,5), grid=True, bins=15)\n",
    "# Добавляем заголовок\n",
    "plt.title('Гистограмма возраста пользователей')\n",
    "# Добавляем подпись оси X и Y\n",
    "plt.xlabel('возраст')\n",
    "plt.ylabel('количество')\n",
    "plt.show()"
   ]
  },
  {
   "cell_type": "markdown",
   "id": "a420cb06",
   "metadata": {},
   "source": [
    "По гистограмме мы видим аналогичные результаты - пользователи, возрастом 23 до 26 преобладают над остальными.\n",
    "\n",
    "Построим диаграмму размаха."
   ]
  },
  {
   "cell_type": "code",
   "execution_count": 31,
   "id": "2d55c7e0",
   "metadata": {},
   "outputs": [
    {
     "data": {
      "image/png": "[encoded data removed]",
      "text/plain": [
       "<Figure size 864x216 with 1 Axes>"
      ]
     },
     "metadata": {
      "needs_background": "light"
     },
     "output_type": "display_data"
    },
    {
     "data": {
      "text/plain": [
       "count    1534.0\n",
       "mean       25.0\n",
       "std         5.0\n",
       "min        12.0\n",
       "25%        22.0\n",
       "50%        25.0\n",
       "75%        28.0\n",
       "max        43.0\n",
       "Name: age, dtype: float64"
      ]
     },
     "execution_count": 31,
     "metadata": {},
     "output_type": "execute_result"
    }
   ],
   "source": [
    "box(data_users,'age','возраст пользователей')\n",
    "data_users['age'].describe().round(0)"
   ]
  },
  {
   "cell_type": "markdown",
   "id": "89b44ea1",
   "metadata": {},
   "source": [
    "Диаграмма размаха иллюстрирует, что пользователи в среднем имеют возраст от 22 до 28 лет, что не противоречит указанным выше выводам. Так же мы видим, что имеется несколько пользователей старше приблизительно 37 лет, что скорее всего не является искажением данных."
   ]
  },
  {
   "cell_type": "markdown",
   "id": "3feea63d",
   "metadata": {},
   "source": [
    "##### Расстояние, которое пользователь преодолел за одну поездку"
   ]
  },
  {
   "cell_type": "markdown",
   "id": "65448c15",
   "metadata": {},
   "source": [
    "Для анализа расстояния, которое пользователь преодалевает за одну поездку, построим гистограмму"
   ]
  },
  {
   "cell_type": "code",
   "execution_count": 32,
   "id": "e204b7c1",
   "metadata": {},
   "outputs": [
    {
     "data": {
      "image/png": "[encoded data removed]",
      "text/plain": [
       "<Figure size 720x360 with 1 Axes>"
      ]
     },
     "metadata": {
      "needs_background": "light"
     },
     "output_type": "display_data"
    },
    {
     "data": {
      "text/markdown": [
       "Минимальное расстояние, которое проезжает пользователь за одну поездку, среди имеющихся данных - 1м, максимальное - 7211м. \n",
       "\n",
       " В среднем пользователи проезжают 3134м. \n",
       "\n",
       " Как упоминалось выше, возможно пользователи берут самокаты, чтобы доехать от дома до остановки или на похожие нужды, то есть используют не как основное, а как дополнительное средство передвижения. Поэтому гистограмма отражает пик части таких пользователей на расстоянии поездки равным приблизительно 500м."
      ],
      "text/plain": [
       "<IPython.core.display.Markdown object>"
      ]
     },
     "metadata": {},
     "output_type": "display_data"
    }
   ],
   "source": [
    "data_rides.sort_values('distance')['distance'].plot(kind='hist', figsize = (10,5), bins=50, grid=True)\n",
    "plt.show()\n",
    "\n",
    "display(Markdown(\n",
    "f\"Минимальное расстояние, которое проезжает пользователь за одну поездку, среди имеющихся данных \\\n",
    "- {data_rides['distance'].describe()['min'].astype('int')}м, \\\n",
    "максимальное - {data_rides['distance'].describe()['max'].astype('int')}м. \\n\\n \\\n",
    "В среднем пользователи проезжают {data_rides['distance'].median().astype('int')}м. \\n\\n \\\n",
    "Как упоминалось выше, возможно пользователи берут самокаты, чтобы доехать от дома до остановки или на \\\n",
    "похожие нужды, то есть используют не как основное, а как дополнительное средство передвижения. \\\n",
    "Поэтому гистограмма отражает пик части таких пользователей на расстоянии поездки равным приблизительно 500м.\"))\n"
   ]
  },
  {
   "cell_type": "markdown",
   "id": "235e2614",
   "metadata": {},
   "source": [
    "##### Продолжительность поездок"
   ]
  },
  {
   "cell_type": "markdown",
   "id": "7239857f",
   "metadata": {},
   "source": [
    "Продолжительность поездок в минутах имеется в столбце `duration`."
   ]
  },
  {
   "cell_type": "code",
   "execution_count": 33,
   "id": "728e0582",
   "metadata": {},
   "outputs": [
    {
     "data": {
      "image/png": "[encoded data removed]",
      "text/plain": [
       "<Figure size 720x360 with 1 Axes>"
      ]
     },
     "metadata": {
      "needs_background": "light"
     },
     "output_type": "display_data"
    },
    {
     "data": {
      "text/markdown": [
       "Гистограмма показывает, что средняя продолжительность поездок -  около 20 минут. Посмотрим, за какое именно время чаще всего совершаются поездки. Для этого построим столбчатую диаграмму."
      ],
      "text/plain": [
       "<IPython.core.display.Markdown object>"
      ]
     },
     "metadata": {},
     "output_type": "display_data"
    },
    {
     "data": {
      "image/png": "[encoded data removed]",
      "text/plain": [
       "<Figure size 720x360 with 1 Axes>"
      ]
     },
     "metadata": {
      "needs_background": "light"
     },
     "output_type": "display_data"
    },
    {
     "data": {
      "text/markdown": [
       "Столбчатая диаграмма иллюстрирует, что чаще всего поездки длятся от 16 до 21 мин, что составляет 38% от общего числа поездок. Так же мы видим, что имеются единичные поездки, которые составляют более 36 минут. \n",
       "\n",
       " Построим диаграмму размаха."
      ],
      "text/plain": [
       "<IPython.core.display.Markdown object>"
      ]
     },
     "metadata": {},
     "output_type": "display_data"
    },
    {
     "data": {
      "image/png": "[encoded data removed]",
      "text/plain": [
       "<Figure size 864x216 with 1 Axes>"
      ]
     },
     "metadata": {
      "needs_background": "light"
     },
     "output_type": "display_data"
    },
    {
     "data": {
      "text/plain": [
       "count    18068.0\n",
       "mean        18.0\n",
       "std          6.0\n",
       "min          1.0\n",
       "25%         14.0\n",
       "50%         18.0\n",
       "75%         22.0\n",
       "max         41.0\n",
       "Name: duration, dtype: float64"
      ]
     },
     "execution_count": 33,
     "metadata": {},
     "output_type": "execute_result"
    }
   ],
   "source": [
    "# Строим гистограмму\n",
    "data_rides.sort_values('duration')['duration'].plot(kind='hist', figsize = (10,5), bins=10, grid=True)\n",
    "# Добавляем заголовок\n",
    "plt.title('Гистограмма времени поездки')\n",
    "# Добавляем подпись оси X и Y\n",
    "plt.xlabel('время')\n",
    "plt.show()\n",
    "\n",
    "display(Markdown(\n",
    "f\"Гистограмма показывает, что средняя продолжительность поездок -  около 20 минут. \\\n",
    "Посмотрим, за какое именно время чаще всего совершаются поездки. Для этого построим столбчатую диаграмму.\"))\n",
    "\n",
    "\n",
    "# Создадим сводную таблицу   \n",
    "df2 = data_rides.pivot_table(index= 'duration', \n",
    "                            values='user_id', \n",
    "                            aggfunc='count')\n",
    "\n",
    "# Создадим столбчатую диаграмму\n",
    "df2.sort_values('user_id').plot(kind='bar', figsize = (10,5), grid=True)\n",
    "# Добавляем заголовок\n",
    "plt.title('Диаграмма времени поездки')\n",
    "# Добавляем подпись оси X и Y\n",
    "plt.xlabel('время')\n",
    "plt.ylabel('количество')\n",
    "plt.show()\n",
    "\n",
    "time = round(((df2.loc[16, 'user_id']+ \\\n",
    "     df2.loc[17, 'user_id']+ df2.loc[18, 'user_id'] + df2.loc[19, 'user_id'] + \\\n",
    "     df2.loc[20, 'user_id']+ df2.loc[21, 'user_id'])/df2['user_id'].sum()*100),0).astype('int')\n",
    "\n",
    "display(Markdown(\n",
    "f\"Столбчатая диаграмма иллюстрирует, что чаще всего поездки длятся от 16 до 21 мин, \\\n",
    "что составляет {time}% от общего числа поездок. Так же мы видим, что имеются единичные поездки, которые \\\n",
    "составляют более 36 минут. \\n\\n Построим диаграмму размаха.\"))\n",
    "\n",
    "box(data_rides,'duration','продолжительность поездки, мин')\n",
    "data_rides['duration'].describe().round(0)"
   ]
  },
  {
   "cell_type": "markdown",
   "id": "869f87ad",
   "metadata": {},
   "source": [
    "Диаграмма показывает, что основной разброс данных находится между 14 и 22 минутами. Вбросы - от 35 мин.  Возможно, пользователи действительно совершали такие длительные поездки, однако, могли возникнуть проблемы с завершением аренды на техническом уровне или проблемы с местом для парковки самоката. "
   ]
  },
  {
   "cell_type": "markdown",
   "id": "9bf45bed",
   "metadata": {},
   "source": [
    "Диаграммы размаха показывают, что данные содержат небольшое(кроме расстояния поездки) количество выбросов."
   ]
  },
  {
   "cell_type": "markdown",
   "id": "c59367c5",
   "metadata": {},
   "source": [
    "***В этом разделе были проанализированы:***\n",
    "- Частота встречаемости городов\n",
    "- Cоотношение пользователей с подпиской и без подписки\n",
    "- Возраст пользователей\n",
    "- Расстояние, которое пользователь преодолел за одну поездку\n",
    "- Продолжительность поездок\n",
    "\n",
    "Так были сделаны следующие выводы:\n",
    "\n",
    "Максимальное количество пользователей сервиса аренды самокатов GoFast находится в Пятигорске(219 человек). Минимальное - в Москве.\n",
    "\n",
    "Было определено, что почти половина пользователей сервиса GoFast имеют подписку (46%)\n",
    "\n",
    "Количество пользователей возрастом от 23 до 26 лет составляют 35 % от общего числа пользователей\n",
    "\n",
    "В среднем пользователи проезжают 3174м\n",
    "\n",
    "Чаще всего поездки длятся от 16 до 20 минут, что составляет 33 % от общего числа поездок\n",
    "\n",
    "Во всех случиях диаграммы размаха показали, что данные содержат небольшое(кроме расстояния поездок) количество выбросов, которые могут быть обоснованы. \n",
    "\n",
    "В случае длительных поездок- пользователи могли действительно совершать такие длительные поездки, однако, могли возникнуть проблемы с завершением аренды на техническом уровне или проблемы с местом для парковки самоката, на что следует обратить внимание руководству компании.\n",
    "\n",
    "Что касается расстояния, которое пользователь преодолевает за одну поездку - есть вероятность, что часть пользователей берет самокаты, чтобы проехать небольшие расстояния. Поэтому соответствующая гистограмма отражает небольшим пиком часть таких пользователей приблизительно на 500м\n",
    "\n",
    "Так же можно подчеркнуть, что стоит задуматься об ограничении минимального возраста пользователей, так как электросамокат развивает ощутимую скорость и юный водитель может оказаться виновником ДТП. При этом стоит учесть, что в полученных данных подростки до 15 лет составляют всего 2% от общего числа пользователей, то есть не являются основными потребителями услуги аренды."
   ]
  },
  {
   "cell_type": "markdown",
   "id": "4ef51331",
   "metadata": {},
   "source": [
    "#### Шаг 4. Объединение данных"
   ]
  },
  {
   "cell_type": "markdown",
   "id": "5d53a2aa",
   "metadata": {},
   "source": [
    "##### Объединение данных о пользователях, поездках и подписках"
   ]
  },
  {
   "cell_type": "markdown",
   "id": "4a282a15",
   "metadata": {},
   "source": [
    "Для упрощения дальнейшего анализа, объединим имеющиеся данные в одну таблицу."
   ]
  },
  {
   "cell_type": "code",
   "execution_count": 34,
   "id": "2b22bbc4",
   "metadata": {},
   "outputs": [
    {
     "data": {
      "text/markdown": [
       "Проверим как объединились данные и выведем получившуюся таблицу на экран."
      ],
      "text/plain": [
       "<IPython.core.display.Markdown object>"
      ]
     },
     "metadata": {},
     "output_type": "display_data"
    },
    {
     "data": {
      "text/html": [
       "<div>\n",
       "<style scoped>\n",
       "    .dataframe tbody tr th:only-of-type {\n",
       "        vertical-align: middle;\n",
       "    }\n",
       "\n",
       "    .dataframe tbody tr th {\n",
       "        vertical-align: top;\n",
       "    }\n",
       "\n",
       "    .dataframe thead th {\n",
       "        text-align: right;\n",
       "    }\n",
       "</style>\n",
       "<table border=\"1\" class=\"dataframe\">\n",
       "  <thead>\n",
       "    <tr style=\"text-align: right;\">\n",
       "      <th></th>\n",
       "      <th>user_id</th>\n",
       "      <th>distance</th>\n",
       "      <th>duration</th>\n",
       "      <th>date</th>\n",
       "      <th>month</th>\n",
       "      <th>name</th>\n",
       "      <th>age</th>\n",
       "      <th>city</th>\n",
       "      <th>subscription_type</th>\n",
       "      <th>minute_price</th>\n",
       "      <th>start_ride_price</th>\n",
       "      <th>subscription_fee</th>\n",
       "    </tr>\n",
       "  </thead>\n",
       "  <tbody>\n",
       "    <tr>\n",
       "      <th>0</th>\n",
       "      <td>1</td>\n",
       "      <td>4410</td>\n",
       "      <td>26</td>\n",
       "      <td>2021-01-01</td>\n",
       "      <td>2021-01-01</td>\n",
       "      <td>Кира</td>\n",
       "      <td>22</td>\n",
       "      <td>Тюмень</td>\n",
       "      <td>ultra</td>\n",
       "      <td>6</td>\n",
       "      <td>0</td>\n",
       "      <td>199</td>\n",
       "    </tr>\n",
       "    <tr>\n",
       "      <th>1</th>\n",
       "      <td>1</td>\n",
       "      <td>2618</td>\n",
       "      <td>16</td>\n",
       "      <td>2021-01-18</td>\n",
       "      <td>2021-01-01</td>\n",
       "      <td>Кира</td>\n",
       "      <td>22</td>\n",
       "      <td>Тюмень</td>\n",
       "      <td>ultra</td>\n",
       "      <td>6</td>\n",
       "      <td>0</td>\n",
       "      <td>199</td>\n",
       "    </tr>\n",
       "    <tr>\n",
       "      <th>2</th>\n",
       "      <td>1</td>\n",
       "      <td>754</td>\n",
       "      <td>7</td>\n",
       "      <td>2021-04-20</td>\n",
       "      <td>2021-04-01</td>\n",
       "      <td>Кира</td>\n",
       "      <td>22</td>\n",
       "      <td>Тюмень</td>\n",
       "      <td>ultra</td>\n",
       "      <td>6</td>\n",
       "      <td>0</td>\n",
       "      <td>199</td>\n",
       "    </tr>\n",
       "    <tr>\n",
       "      <th>3</th>\n",
       "      <td>1</td>\n",
       "      <td>2695</td>\n",
       "      <td>19</td>\n",
       "      <td>2021-08-11</td>\n",
       "      <td>2021-08-01</td>\n",
       "      <td>Кира</td>\n",
       "      <td>22</td>\n",
       "      <td>Тюмень</td>\n",
       "      <td>ultra</td>\n",
       "      <td>6</td>\n",
       "      <td>0</td>\n",
       "      <td>199</td>\n",
       "    </tr>\n",
       "    <tr>\n",
       "      <th>4</th>\n",
       "      <td>1</td>\n",
       "      <td>4029</td>\n",
       "      <td>27</td>\n",
       "      <td>2021-08-28</td>\n",
       "      <td>2021-08-01</td>\n",
       "      <td>Кира</td>\n",
       "      <td>22</td>\n",
       "      <td>Тюмень</td>\n",
       "      <td>ultra</td>\n",
       "      <td>6</td>\n",
       "      <td>0</td>\n",
       "      <td>199</td>\n",
       "    </tr>\n",
       "    <tr>\n",
       "      <th>...</th>\n",
       "      <td>...</td>\n",
       "      <td>...</td>\n",
       "      <td>...</td>\n",
       "      <td>...</td>\n",
       "      <td>...</td>\n",
       "      <td>...</td>\n",
       "      <td>...</td>\n",
       "      <td>...</td>\n",
       "      <td>...</td>\n",
       "      <td>...</td>\n",
       "      <td>...</td>\n",
       "      <td>...</td>\n",
       "    </tr>\n",
       "    <tr>\n",
       "      <th>18063</th>\n",
       "      <td>1534</td>\n",
       "      <td>3781</td>\n",
       "      <td>20</td>\n",
       "      <td>2021-11-04</td>\n",
       "      <td>2021-11-01</td>\n",
       "      <td>Альберт</td>\n",
       "      <td>25</td>\n",
       "      <td>Краснодар</td>\n",
       "      <td>free</td>\n",
       "      <td>8</td>\n",
       "      <td>50</td>\n",
       "      <td>0</td>\n",
       "    </tr>\n",
       "    <tr>\n",
       "      <th>18064</th>\n",
       "      <td>1534</td>\n",
       "      <td>2840</td>\n",
       "      <td>22</td>\n",
       "      <td>2021-11-16</td>\n",
       "      <td>2021-11-01</td>\n",
       "      <td>Альберт</td>\n",
       "      <td>25</td>\n",
       "      <td>Краснодар</td>\n",
       "      <td>free</td>\n",
       "      <td>8</td>\n",
       "      <td>50</td>\n",
       "      <td>0</td>\n",
       "    </tr>\n",
       "    <tr>\n",
       "      <th>18065</th>\n",
       "      <td>1534</td>\n",
       "      <td>3826</td>\n",
       "      <td>19</td>\n",
       "      <td>2021-11-18</td>\n",
       "      <td>2021-11-01</td>\n",
       "      <td>Альберт</td>\n",
       "      <td>25</td>\n",
       "      <td>Краснодар</td>\n",
       "      <td>free</td>\n",
       "      <td>8</td>\n",
       "      <td>50</td>\n",
       "      <td>0</td>\n",
       "    </tr>\n",
       "    <tr>\n",
       "      <th>18066</th>\n",
       "      <td>1534</td>\n",
       "      <td>2902</td>\n",
       "      <td>17</td>\n",
       "      <td>2021-11-27</td>\n",
       "      <td>2021-11-01</td>\n",
       "      <td>Альберт</td>\n",
       "      <td>25</td>\n",
       "      <td>Краснодар</td>\n",
       "      <td>free</td>\n",
       "      <td>8</td>\n",
       "      <td>50</td>\n",
       "      <td>0</td>\n",
       "    </tr>\n",
       "    <tr>\n",
       "      <th>18067</th>\n",
       "      <td>1534</td>\n",
       "      <td>2372</td>\n",
       "      <td>16</td>\n",
       "      <td>2021-12-29</td>\n",
       "      <td>2021-12-01</td>\n",
       "      <td>Альберт</td>\n",
       "      <td>25</td>\n",
       "      <td>Краснодар</td>\n",
       "      <td>free</td>\n",
       "      <td>8</td>\n",
       "      <td>50</td>\n",
       "      <td>0</td>\n",
       "    </tr>\n",
       "  </tbody>\n",
       "</table>\n",
       "<p>18068 rows × 12 columns</p>\n",
       "</div>"
      ],
      "text/plain": [
       "       user_id  distance  duration       date      month     name  age  \\\n",
       "0            1      4410        26 2021-01-01 2021-01-01     Кира   22   \n",
       "1            1      2618        16 2021-01-18 2021-01-01     Кира   22   \n",
       "2            1       754         7 2021-04-20 2021-04-01     Кира   22   \n",
       "3            1      2695        19 2021-08-11 2021-08-01     Кира   22   \n",
       "4            1      4029        27 2021-08-28 2021-08-01     Кира   22   \n",
       "...        ...       ...       ...        ...        ...      ...  ...   \n",
       "18063     1534      3781        20 2021-11-04 2021-11-01  Альберт   25   \n",
       "18064     1534      2840        22 2021-11-16 2021-11-01  Альберт   25   \n",
       "18065     1534      3826        19 2021-11-18 2021-11-01  Альберт   25   \n",
       "18066     1534      2902        17 2021-11-27 2021-11-01  Альберт   25   \n",
       "18067     1534      2372        16 2021-12-29 2021-12-01  Альберт   25   \n",
       "\n",
       "            city subscription_type  minute_price  start_ride_price  \\\n",
       "0         Тюмень             ultra             6                 0   \n",
       "1         Тюмень             ultra             6                 0   \n",
       "2         Тюмень             ultra             6                 0   \n",
       "3         Тюмень             ultra             6                 0   \n",
       "4         Тюмень             ultra             6                 0   \n",
       "...          ...               ...           ...               ...   \n",
       "18063  Краснодар              free             8                50   \n",
       "18064  Краснодар              free             8                50   \n",
       "18065  Краснодар              free             8                50   \n",
       "18066  Краснодар              free             8                50   \n",
       "18067  Краснодар              free             8                50   \n",
       "\n",
       "       subscription_fee  \n",
       "0                   199  \n",
       "1                   199  \n",
       "2                   199  \n",
       "3                   199  \n",
       "4                   199  \n",
       "...                 ...  \n",
       "18063                 0  \n",
       "18064                 0  \n",
       "18065                 0  \n",
       "18066                 0  \n",
       "18067                 0  \n",
       "\n",
       "[18068 rows x 12 columns]"
      ]
     },
     "execution_count": 34,
     "metadata": {},
     "output_type": "execute_result"
    }
   ],
   "source": [
    "#Используем метод merge()\n",
    "data_full = data_rides.merge(data_users,\n",
    "                             on='user_id',\n",
    "                             how='left') \\\n",
    "            .merge(data_subscriptions,\n",
    "                   on='subscription_type',\n",
    "                   how='left')\n",
    "\n",
    "display(Markdown(\n",
    "f\"Проверим как объединились данные и выведем получившуюся таблицу на экран.\"))\n",
    "\n",
    "data_full"
   ]
  },
  {
   "cell_type": "code",
   "execution_count": 35,
   "id": "e94a6bf5",
   "metadata": {},
   "outputs": [
    {
     "data": {
      "text/markdown": [
       "Посмотрим общую информацию о получившейся таблице."
      ],
      "text/plain": [
       "<IPython.core.display.Markdown object>"
      ]
     },
     "metadata": {},
     "output_type": "display_data"
    },
    {
     "name": "stdout",
     "output_type": "stream",
     "text": [
      "<class 'pandas.core.frame.DataFrame'>\n",
      "Int64Index: 18068 entries, 0 to 18067\n",
      "Data columns (total 12 columns):\n",
      " #   Column             Non-Null Count  Dtype         \n",
      "---  ------             --------------  -----         \n",
      " 0   user_id            18068 non-null  int64         \n",
      " 1   distance           18068 non-null  int64         \n",
      " 2   duration           18068 non-null  int64         \n",
      " 3   date               18068 non-null  datetime64[ns]\n",
      " 4   month              18068 non-null  datetime64[ns]\n",
      " 5   name               18068 non-null  object        \n",
      " 6   age                18068 non-null  int64         \n",
      " 7   city               18068 non-null  object        \n",
      " 8   subscription_type  18068 non-null  object        \n",
      " 9   minute_price       18068 non-null  int64         \n",
      " 10  start_ride_price   18068 non-null  int64         \n",
      " 11  subscription_fee   18068 non-null  int64         \n",
      "dtypes: datetime64[ns](2), int64(7), object(3)\n",
      "memory usage: 1.8+ MB\n"
     ]
    },
    {
     "data": {
      "text/markdown": [
       "В первоначальной таблице было 18068 строк как и в текущей. Можем сделать вывод, что все на месте."
      ],
      "text/plain": [
       "<IPython.core.display.Markdown object>"
      ]
     },
     "metadata": {},
     "output_type": "display_data"
    }
   ],
   "source": [
    "display(Markdown(\n",
    "f\"Посмотрим общую информацию о получившейся таблице.\"))\n",
    "\n",
    "data_full.info()\n",
    "\n",
    "display(Markdown(\n",
    "f\"В первоначальной таблице было 18068 строк как и в текущей. Можем сделать вывод, что все на месте.\"))"
   ]
  },
  {
   "cell_type": "markdown",
   "id": "1e227f16",
   "metadata": {},
   "source": [
    "##### Создание новых таблиц\n",
    "\n",
    "Создадим 2 новых таблицы:\n",
    "\n",
    "- c данными о пользователях без подписки\n",
    "- с данными о пользователях с подпиской"
   ]
  },
  {
   "cell_type": "code",
   "execution_count": 36,
   "id": "88b5ba2a",
   "metadata": {
    "scrolled": true
   },
   "outputs": [
    {
     "name": "stdout",
     "output_type": "stream",
     "text": [
      "<class 'pandas.core.frame.DataFrame'>\n",
      "Int64Index: 11568 entries, 6500 to 18067\n",
      "Data columns (total 12 columns):\n",
      " #   Column             Non-Null Count  Dtype         \n",
      "---  ------             --------------  -----         \n",
      " 0   user_id            11568 non-null  int64         \n",
      " 1   distance           11568 non-null  int64         \n",
      " 2   duration           11568 non-null  int64         \n",
      " 3   date               11568 non-null  datetime64[ns]\n",
      " 4   month              11568 non-null  datetime64[ns]\n",
      " 5   name               11568 non-null  object        \n",
      " 6   age                11568 non-null  int64         \n",
      " 7   city               11568 non-null  object        \n",
      " 8   subscription_type  11568 non-null  object        \n",
      " 9   minute_price       11568 non-null  int64         \n",
      " 10  start_ride_price   11568 non-null  int64         \n",
      " 11  subscription_fee   11568 non-null  int64         \n",
      "dtypes: datetime64[ns](2), int64(7), object(3)\n",
      "memory usage: 1.1+ MB\n",
      "\n",
      "<class 'pandas.core.frame.DataFrame'>\n",
      "Int64Index: 6500 entries, 0 to 6499\n",
      "Data columns (total 12 columns):\n",
      " #   Column             Non-Null Count  Dtype         \n",
      "---  ------             --------------  -----         \n",
      " 0   user_id            6500 non-null   int64         \n",
      " 1   distance           6500 non-null   int64         \n",
      " 2   duration           6500 non-null   int64         \n",
      " 3   date               6500 non-null   datetime64[ns]\n",
      " 4   month              6500 non-null   datetime64[ns]\n",
      " 5   name               6500 non-null   object        \n",
      " 6   age                6500 non-null   int64         \n",
      " 7   city               6500 non-null   object        \n",
      " 8   subscription_type  6500 non-null   object        \n",
      " 9   minute_price       6500 non-null   int64         \n",
      " 10  start_ride_price   6500 non-null   int64         \n",
      " 11  subscription_fee   6500 non-null   int64         \n",
      "dtypes: datetime64[ns](2), int64(7), object(3)\n",
      "memory usage: 660.2+ KB\n"
     ]
    },
    {
     "data": {
      "text/markdown": [
       "Так как в общей таблице 18068 строк, в `data_full_free` - 11568 строк, а в `data_full_ultra` - 6500 строк,можем сделать вывод, что данные разделены на 2 таблицы корректно. Столбцов одинаковое количество. \n",
       "\n",
       " Следует отметить, что по ранее расчитанным данным пользователей с подпиской - 46% от общего числа, а строк в таблице с поездками таких людей почти в 2 раза меньше. Очевидно, пользователи с подпиской совершают меньше поездок почти в 2 раза."
      ],
      "text/plain": [
       "<IPython.core.display.Markdown object>"
      ]
     },
     "metadata": {},
     "output_type": "display_data"
    }
   ],
   "source": [
    "#Создадим срез по столбцу 'subscription_type' c данными о пользователях без подписки\n",
    "data_full_free = data_full.query('subscription_type == \"free\"')\n",
    "#Создадим срез по столбцу 'subscription_type' c данными о пользователях с подпиской\n",
    "data_full_ultra = data_full.query('subscription_type == \"ultra\"')\n",
    "\n",
    "data_full_free.info()\n",
    "print()\n",
    "data_full_ultra.info()\n",
    "\n",
    "display(Markdown(\n",
    "f\"Так как в общей таблице 18068 строк, в `data_full_free` - 11568 строк, а в `data_full_ultra` - 6500 строк,\\\n",
    "можем сделать вывод, что данные разделены на 2 таблицы корректно. Столбцов одинаковое количество. \\n\\n Следует \\\n",
    "отметить, что по ранее расчитанным данным пользователей с подпиской - 46% от общего числа, \\\n",
    "а строк в таблице с поездками таких людей почти в 2 раза меньше. Очевидно, пользователи с подпиской \\\n",
    "совершают меньше поездок почти в 2 раза.\"))"
   ]
  },
  {
   "cell_type": "markdown",
   "id": "10d2930b",
   "metadata": {},
   "source": [
    "##### Визуализация информации о расстоянии и времени поездок пользователей с подпиской и без"
   ]
  },
  {
   "cell_type": "markdown",
   "id": "ec8ebf74",
   "metadata": {},
   "source": [
    "Посмотрим зависит ли от подписки пользователей на сервис GoFast расстояние и время поездок."
   ]
  },
  {
   "cell_type": "code",
   "execution_count": 37,
   "id": "37c00a33",
   "metadata": {},
   "outputs": [
    {
     "data": {
      "text/markdown": [
       "Построим столбчатую диаграмму по данным о продолжительности поездок."
      ],
      "text/plain": [
       "<IPython.core.display.Markdown object>"
      ]
     },
     "metadata": {},
     "output_type": "display_data"
    },
    {
     "data": {
      "image/png": "[encoded data removed]",
      "text/plain": [
       "<Figure size 720x360 with 1 Axes>"
      ]
     },
     "metadata": {
      "needs_background": "light"
     },
     "output_type": "display_data"
    },
    {
     "data": {
      "text/markdown": [
       "По графику видно, что поездок у пользователей без подписки больше, чем с подпиской - 11568 и 6500 соответственно.\n",
       "\n",
       " Максимальное и среднее время поездки так же отличаются: \n",
       "\n",
       " - без подписки - 35 мин и 18 мин соответственно\n",
       "\n",
       " - с подпиской - 41 мин и 19 мин соответственно"
      ],
      "text/plain": [
       "<IPython.core.display.Markdown object>"
      ]
     },
     "metadata": {},
     "output_type": "display_data"
    },
    {
     "data": {
      "text/markdown": [
       "Теперь посмотрим распределение данных по гистограмме."
      ],
      "text/plain": [
       "<IPython.core.display.Markdown object>"
      ]
     },
     "metadata": {},
     "output_type": "display_data"
    },
    {
     "data": {
      "image/png": "[encoded data removed]",
      "text/plain": [
       "<Figure size 720x360 with 1 Axes>"
      ]
     },
     "metadata": {
      "needs_background": "light"
     },
     "output_type": "display_data"
    }
   ],
   "source": [
    "# Создадим функцию для диаграммы\n",
    "def bar_subscription(ind,x):\n",
    "    # Создаем объект оси\n",
    "    fig, ax = plt.subplots(figsize=(10, 5))\n",
    "    \n",
    "    # Создадим столбчатую диаграмму по таблице data_full_free\n",
    "    dt_free = data_full_free.pivot_table(index=ind,\n",
    "                           values='user_id',\n",
    "                           aggfunc='count') \n",
    "    \n",
    "    dt_free.columns = ['user_id']\n",
    "    \n",
    "    dt_free.plot(kind='bar',\n",
    "      ax=ax,\n",
    "      color='lightskyblue',\n",
    "      label='Free',\n",
    "      grid=True)\n",
    "\n",
    "    \n",
    "    # Создадим столбчатую диаграмму по таблице data_full_ultra\n",
    "    dt_ultra = data_full_ultra.pivot_table(index=ind,\n",
    "                            values='user_id',\n",
    "                            aggfunc='count') \n",
    "    dt_ultra.columns = ['user_id']\n",
    "    dt_ultra.plot(kind='bar',\n",
    "      ax=ax,\n",
    "      color='pink',\n",
    "      label='Ultra',\n",
    "      grid=True)\n",
    "    \n",
    "    # Добавляем заголовок\n",
    "    plt.title('Диаграмма времени поездки')\n",
    "    # Добавляем подпись оси X и Y\n",
    "    plt.xlabel(x)\n",
    "    plt.ylabel('количество')\n",
    "    ax.legend()\n",
    "    plt.show()\n",
    "    return dt_free, dt_ultra\n",
    "\n",
    "# Создадим функцию для гистограммы\n",
    "def hist_t_d(dt1,dt2,col,name,x,bins):\n",
    "    # Создаем объект оси\n",
    "    fig, ax = plt.subplots(figsize=(10, 5))\n",
    "    \n",
    "    # Создадим столбчатую диаграмму по таблице data_full_free\n",
    "    dt1[col].plot(kind='hist',\n",
    "                      x=col,\n",
    "                      ax=ax,\n",
    "                      color='lightskyblue',\n",
    "                      label='Пользователи без подписки',\n",
    "                      grid=True,\n",
    "                      bins=bins)\n",
    "    # Создадим столбчатую диаграмму по таблице data_full_ultra\n",
    "    dt2[col].plot(kind='hist',\n",
    "                  x='distance',\n",
    "                  ax=ax,\n",
    "                  color='pink',\n",
    "                  label='Пользователи с подпиской',\n",
    "                  grid=True,\n",
    "                  bins=bins)\n",
    "    # Добавляем заголовок\n",
    "    plt.title('Гистограмма ' + name)\n",
    "    # Добавляем подпись оси X и Y\n",
    "    plt.xlabel(x)\n",
    "    ax.legend()\n",
    "    plt.show()\n",
    "\n",
    "display(Markdown(\n",
    "f\"Построим столбчатую диаграмму по данным о продолжительности поездок.\"))\n",
    "\n",
    "dt_free_dur, dt_ultra_dur = bar_subscription('duration','время, мин')\n",
    "\n",
    "# Выводы по диограмме\n",
    "display(Markdown(\n",
    "f\"По графику видно, что поездок у пользователей без подписки больше, чем с подпиской - \\\n",
    "{dt_free_dur['user_id'].sum()} и \\\n",
    "{dt_ultra_dur['user_id'].sum()} соответственно.\\n\\n \\\n",
    "Максимальное и среднее время поездки так же отличаются: \\n\\n \\\n",
    "- без подписки - {data_full_free['duration'].max()} мин и \\\n",
    "{round(data_full_free['duration'].mean(),0).astype('int')} мин соответственно\\n\\n \\\n",
    "- с подпиской - {data_full_ultra['duration'].max()} мин и \\\n",
    "{round(data_full_ultra['duration'].mean(),0).astype('int')} мин соответственно\"))\n",
    "\n",
    "display(Markdown(\n",
    "f\"Теперь посмотрим распределение данных по гистограмме.\"))\n",
    "\n",
    "hist_t_d(data_full_free,data_full_ultra,'duration','продолжительности поездки','время, мин',10)\n"
   ]
  },
  {
   "cell_type": "markdown",
   "id": "e2b77df7",
   "metadata": {},
   "source": [
    "Различия значительны в количестве человек имеющих и не имеющих подписку, продолжительность поездки в обоих случаях отличаются не сильно. Можно отметить, что среди пользователей ресурсом без подписки сильно выделяются поездки продолжительностью около 20 мин. Среди людей, имеющих подписку, пик так же находится около 20 мин, но количество пользователей не так сильно выделяется."
   ]
  },
  {
   "cell_type": "markdown",
   "id": "92f056c5",
   "metadata": {},
   "source": [
    "Теперь посмотрим зависит ли от наличия или отсутствия подписки на сервис GoFast расстояние поездок."
   ]
  },
  {
   "cell_type": "code",
   "execution_count": 38,
   "id": "e063f1d6",
   "metadata": {},
   "outputs": [
    {
     "data": {
      "text/markdown": [
       "Построим гистограмму по данным о расстоянии поездок."
      ],
      "text/plain": [
       "<IPython.core.display.Markdown object>"
      ]
     },
     "metadata": {},
     "output_type": "display_data"
    },
    {
     "data": {
      "image/png": "[encoded data removed]",
      "text/plain": [
       "<Figure size 720x360 with 1 Axes>"
      ]
     },
     "metadata": {
      "needs_background": "light"
     },
     "output_type": "display_data"
    },
    {
     "name": "stdout",
     "output_type": "stream",
     "text": [
      "По данным пользователей без подписки\n",
      "\n",
      " count    11568.0\n",
      "mean      3045.0\n",
      "std       1246.0\n",
      "min          1.0\n",
      "25%       2367.0\n",
      "50%       3115.0\n",
      "75%       3906.0\n",
      "max       7211.0\n",
      "Name: distance, dtype: float64 \n",
      "\n",
      " По данным пользователей c подпиской\n",
      "\n",
      " count    6500.0\n",
      "mean     3115.0\n",
      "std       837.0\n",
      "min       244.0\n",
      "25%      2785.0\n",
      "50%      3149.0\n",
      "75%      3561.0\n",
      "max      5700.0\n",
      "Name: distance, dtype: float64\n"
     ]
    },
    {
     "data": {
      "text/markdown": [
       "Среднее расстояние поездки пользователей без подписки - 3045 м, пользователей с подпиской - 3115 м. Mедианы - 3115 м и 3149 м пользователей с подпиской и без соответственно. Однако, разброс пиковых значений у пользователей с подпиской меньше. Возможно это связано с тем, что люди с подпиской совершают меньше поездок."
      ],
      "text/plain": [
       "<IPython.core.display.Markdown object>"
      ]
     },
     "metadata": {},
     "output_type": "display_data"
    }
   ],
   "source": [
    "display(Markdown(\n",
    "f\"Построим гистограмму по данным о расстоянии поездок.\"))\n",
    "\n",
    "hist_t_d(data_full_free,data_full_ultra,'distance','расстояния поездки','расстояние, м',50)\n",
    "\n",
    "print(\"По данным пользователей без подписки\\n\\n\",\n",
    "      data_full_free['distance'].describe().round(0),'\\n\\n',\n",
    "      \"По данным пользователей c подпиской\\n\\n\",\n",
    "      data_full_ultra['distance'].describe().round(0))\n",
    "\n",
    "display(Markdown(\n",
    "f\"Среднее расстояние поездки пользователей без подписки - \\\n",
    "{data_full_free['distance'].describe().round(0)['mean'].astype('int')} м, \\\n",
    "пользователей с подпиской - {data_full_ultra['distance'].describe().round(0)['mean'].astype('int')} м. \\\n",
    "Mедианы - {data_full_free['distance'].median().astype('int')} м и \\\n",
    "{data_full_ultra['distance'].median().astype('int')} м пользователей с подпиской и без соответственно.\\\n",
    " Однако, разброс пиковых значений у пользователей с подпиской меньше. Возможно это связано с тем, что \\\n",
    "люди с подпиской совершают меньше поездок.\"))"
   ]
  },
  {
   "cell_type": "markdown",
   "id": "6f77746b",
   "metadata": {},
   "source": [
    "В данном разделе было произведено объединение всех таблиц с данными, создание и анализ таблиц с пользователями имеющими подписку и без нее, так же определено среднее время и среднее расстояние поездок пользователей с подпиской  и без.\n",
    "\n",
    "Различия значительны только в количестве человек имеющих и не имеющих подписку, продолжительность поездки в обоих случаях отличается не сильно, как и среднее расстояние поездок."
   ]
  },
  {
   "cell_type": "markdown",
   "id": "307c39da",
   "metadata": {},
   "source": [
    "При этом можно отметить, что люди, имеющие подписку, в большинстве проезжают либо около 1000м(маленький пик гистограммы), либо 3100м(большой пик гистограммы). \n",
    "\n",
    "Среди пользователей без подписки нет такой четкой градации. На гистограмме видно, что среди них так же имеется небольшое число пользователей, предпочитающих поездки на малые расстояния и здесь они проезжают 500м, а большинство от 2500 до 3600 метров. То есть разброс значительно больше, чем у пользователей с подпиской. "
   ]
  },
  {
   "cell_type": "markdown",
   "id": "402d620f",
   "metadata": {},
   "source": [
    "#### Шаг 5. Подсчёт выручки"
   ]
  },
  {
   "cell_type": "markdown",
   "id": "59a14a23",
   "metadata": {},
   "source": [
    "##### Расчет общих показателей для каждого из пользователей"
   ]
  },
  {
   "cell_type": "markdown",
   "id": "c3843084",
   "metadata": {},
   "source": [
    "Для того, чтобы произвести расчет выручки сервиса GoFast, потребуется определить агрегированные данные о поездках для каждого пользователя. Для этого построим сводную таблицу."
   ]
  },
  {
   "cell_type": "code",
   "execution_count": 39,
   "id": "66e07a80",
   "metadata": {
    "scrolled": true
   },
   "outputs": [
    {
     "data": {
      "text/markdown": [
       "Посмотрим информацию о получившейся таблице."
      ],
      "text/plain": [
       "<IPython.core.display.Markdown object>"
      ]
     },
     "metadata": {},
     "output_type": "display_data"
    },
    {
     "name": "stdout",
     "output_type": "stream",
     "text": [
      "<class 'pandas.core.frame.DataFrame'>\n",
      "MultiIndex: 11331 entries, (1, Timestamp('2021-01-01 00:00:00')) to (1534, Timestamp('2021-12-01 00:00:00'))\n",
      "Data columns (total 3 columns):\n",
      " #   Column    Non-Null Count  Dtype\n",
      "---  ------    --------------  -----\n",
      " 0   distance  11331 non-null  int64\n",
      " 1   duration  11331 non-null  int64\n",
      " 2   count     11331 non-null  int64\n",
      "dtypes: int64(3)\n",
      "memory usage: 311.0 KB\n"
     ]
    },
    {
     "data": {
      "text/markdown": [
       "Пропусков нет."
      ],
      "text/plain": [
       "<IPython.core.display.Markdown object>"
      ]
     },
     "metadata": {},
     "output_type": "display_data"
    },
    {
     "data": {
      "text/html": [
       "<div>\n",
       "<style scoped>\n",
       "    .dataframe tbody tr th:only-of-type {\n",
       "        vertical-align: middle;\n",
       "    }\n",
       "\n",
       "    .dataframe tbody tr th {\n",
       "        vertical-align: top;\n",
       "    }\n",
       "\n",
       "    .dataframe thead th {\n",
       "        text-align: right;\n",
       "    }\n",
       "</style>\n",
       "<table border=\"1\" class=\"dataframe\">\n",
       "  <thead>\n",
       "    <tr style=\"text-align: right;\">\n",
       "      <th></th>\n",
       "      <th></th>\n",
       "      <th>distance</th>\n",
       "      <th>duration</th>\n",
       "      <th>count</th>\n",
       "    </tr>\n",
       "    <tr>\n",
       "      <th>user_id</th>\n",
       "      <th>month</th>\n",
       "      <th></th>\n",
       "      <th></th>\n",
       "      <th></th>\n",
       "    </tr>\n",
       "  </thead>\n",
       "  <tbody>\n",
       "    <tr>\n",
       "      <th rowspan=\"5\" valign=\"top\">1</th>\n",
       "      <th>2021-01-01</th>\n",
       "      <td>7028</td>\n",
       "      <td>42</td>\n",
       "      <td>2</td>\n",
       "    </tr>\n",
       "    <tr>\n",
       "      <th>2021-04-01</th>\n",
       "      <td>754</td>\n",
       "      <td>7</td>\n",
       "      <td>1</td>\n",
       "    </tr>\n",
       "    <tr>\n",
       "      <th>2021-08-01</th>\n",
       "      <td>6724</td>\n",
       "      <td>46</td>\n",
       "      <td>2</td>\n",
       "    </tr>\n",
       "    <tr>\n",
       "      <th>2021-10-01</th>\n",
       "      <td>5810</td>\n",
       "      <td>32</td>\n",
       "      <td>2</td>\n",
       "    </tr>\n",
       "    <tr>\n",
       "      <th>2021-11-01</th>\n",
       "      <td>7004</td>\n",
       "      <td>56</td>\n",
       "      <td>3</td>\n",
       "    </tr>\n",
       "    <tr>\n",
       "      <th>...</th>\n",
       "      <th>...</th>\n",
       "      <td>...</td>\n",
       "      <td>...</td>\n",
       "      <td>...</td>\n",
       "    </tr>\n",
       "    <tr>\n",
       "      <th rowspan=\"5\" valign=\"top\">1534</th>\n",
       "      <th>2021-06-01</th>\n",
       "      <td>3409</td>\n",
       "      <td>26</td>\n",
       "      <td>2</td>\n",
       "    </tr>\n",
       "    <tr>\n",
       "      <th>2021-08-01</th>\n",
       "      <td>7623</td>\n",
       "      <td>48</td>\n",
       "      <td>2</td>\n",
       "    </tr>\n",
       "    <tr>\n",
       "      <th>2021-09-01</th>\n",
       "      <td>4928</td>\n",
       "      <td>23</td>\n",
       "      <td>1</td>\n",
       "    </tr>\n",
       "    <tr>\n",
       "      <th>2021-11-01</th>\n",
       "      <td>13349</td>\n",
       "      <td>78</td>\n",
       "      <td>4</td>\n",
       "    </tr>\n",
       "    <tr>\n",
       "      <th>2021-12-01</th>\n",
       "      <td>2372</td>\n",
       "      <td>16</td>\n",
       "      <td>1</td>\n",
       "    </tr>\n",
       "  </tbody>\n",
       "</table>\n",
       "<p>11331 rows × 3 columns</p>\n",
       "</div>"
      ],
      "text/plain": [
       "                    distance  duration  count\n",
       "user_id month                                \n",
       "1       2021-01-01      7028        42      2\n",
       "        2021-04-01       754         7      1\n",
       "        2021-08-01      6724        46      2\n",
       "        2021-10-01      5810        32      2\n",
       "        2021-11-01      7004        56      3\n",
       "...                      ...       ...    ...\n",
       "1534    2021-06-01      3409        26      2\n",
       "        2021-08-01      7623        48      2\n",
       "        2021-09-01      4928        23      1\n",
       "        2021-11-01     13349        78      4\n",
       "        2021-12-01      2372        16      1\n",
       "\n",
       "[11331 rows x 3 columns]"
      ]
     },
     "execution_count": 39,
     "metadata": {},
     "output_type": "execute_result"
    }
   ],
   "source": [
    "data_full_pivot = data_full.pivot_table(index=['user_id','month'],\n",
    "                            values=['distance','duration'],\n",
    "                            aggfunc=['sum','count'])\n",
    "data_full_pivot.columns = ['distance','duration','count','count2']\n",
    "data_full_pivot = data_full_pivot.drop('count2', axis=1)\n",
    "\n",
    "display(Markdown(\n",
    "f\"Посмотрим информацию о получившейся таблице.\"))\n",
    "\n",
    "data_full_pivot.info()\n",
    "\n",
    "display(Markdown(\n",
    "f\"Пропусков нет.\"))\n",
    "data_full_pivot"
   ]
  },
  {
   "cell_type": "markdown",
   "id": "6d1135a0",
   "metadata": {},
   "source": [
    "##### Расчет помесячной выручки."
   ]
  },
  {
   "cell_type": "markdown",
   "id": "db08db43",
   "metadata": {},
   "source": [
    "С помощью сводной таблицы и информации об условиях оплаты для подписчиков и тех, у кого нет подписки рассчитаем помесячную выручку сервиса GoFast."
   ]
  },
  {
   "cell_type": "code",
   "execution_count": 40,
   "id": "78b4824e",
   "metadata": {},
   "outputs": [
    {
     "data": {
      "text/html": [
       "<div>\n",
       "<style scoped>\n",
       "    .dataframe tbody tr th:only-of-type {\n",
       "        vertical-align: middle;\n",
       "    }\n",
       "\n",
       "    .dataframe tbody tr th {\n",
       "        vertical-align: top;\n",
       "    }\n",
       "\n",
       "    .dataframe thead th {\n",
       "        text-align: right;\n",
       "    }\n",
       "</style>\n",
       "<table border=\"1\" class=\"dataframe\">\n",
       "  <thead>\n",
       "    <tr style=\"text-align: right;\">\n",
       "      <th></th>\n",
       "      <th></th>\n",
       "      <th></th>\n",
       "      <th>distance</th>\n",
       "      <th>duration</th>\n",
       "      <th>count</th>\n",
       "      <th>minute_price</th>\n",
       "      <th>start_ride_price</th>\n",
       "      <th>subscription_fee</th>\n",
       "      <th>income</th>\n",
       "    </tr>\n",
       "    <tr>\n",
       "      <th>subscription_type</th>\n",
       "      <th>user_id</th>\n",
       "      <th>month</th>\n",
       "      <th></th>\n",
       "      <th></th>\n",
       "      <th></th>\n",
       "      <th></th>\n",
       "      <th></th>\n",
       "      <th></th>\n",
       "      <th></th>\n",
       "    </tr>\n",
       "  </thead>\n",
       "  <tbody>\n",
       "    <tr>\n",
       "      <th rowspan=\"5\" valign=\"top\">free</th>\n",
       "      <th rowspan=\"5\" valign=\"top\">700</th>\n",
       "      <th>2021-01-01</th>\n",
       "      <td>2516</td>\n",
       "      <td>15</td>\n",
       "      <td>1</td>\n",
       "      <td>8</td>\n",
       "      <td>50</td>\n",
       "      <td>0</td>\n",
       "      <td>170</td>\n",
       "    </tr>\n",
       "    <tr>\n",
       "      <th>2021-02-01</th>\n",
       "      <td>13446</td>\n",
       "      <td>89</td>\n",
       "      <td>5</td>\n",
       "      <td>8</td>\n",
       "      <td>50</td>\n",
       "      <td>0</td>\n",
       "      <td>962</td>\n",
       "    </tr>\n",
       "    <tr>\n",
       "      <th>2021-03-01</th>\n",
       "      <td>3798</td>\n",
       "      <td>19</td>\n",
       "      <td>1</td>\n",
       "      <td>8</td>\n",
       "      <td>50</td>\n",
       "      <td>0</td>\n",
       "      <td>202</td>\n",
       "    </tr>\n",
       "    <tr>\n",
       "      <th>2021-04-01</th>\n",
       "      <td>2985</td>\n",
       "      <td>16</td>\n",
       "      <td>1</td>\n",
       "      <td>8</td>\n",
       "      <td>50</td>\n",
       "      <td>0</td>\n",
       "      <td>178</td>\n",
       "    </tr>\n",
       "    <tr>\n",
       "      <th>2021-06-01</th>\n",
       "      <td>5928</td>\n",
       "      <td>29</td>\n",
       "      <td>2</td>\n",
       "      <td>8</td>\n",
       "      <td>50</td>\n",
       "      <td>0</td>\n",
       "      <td>332</td>\n",
       "    </tr>\n",
       "    <tr>\n",
       "      <th>...</th>\n",
       "      <th>...</th>\n",
       "      <th>...</th>\n",
       "      <td>...</td>\n",
       "      <td>...</td>\n",
       "      <td>...</td>\n",
       "      <td>...</td>\n",
       "      <td>...</td>\n",
       "      <td>...</td>\n",
       "      <td>...</td>\n",
       "    </tr>\n",
       "    <tr>\n",
       "      <th rowspan=\"5\" valign=\"top\">ultra</th>\n",
       "      <th rowspan=\"5\" valign=\"top\">699</th>\n",
       "      <th>2021-06-01</th>\n",
       "      <td>4073</td>\n",
       "      <td>17</td>\n",
       "      <td>1</td>\n",
       "      <td>6</td>\n",
       "      <td>0</td>\n",
       "      <td>199</td>\n",
       "      <td>301</td>\n",
       "    </tr>\n",
       "    <tr>\n",
       "      <th>2021-08-01</th>\n",
       "      <td>7018</td>\n",
       "      <td>45</td>\n",
       "      <td>2</td>\n",
       "      <td>6</td>\n",
       "      <td>0</td>\n",
       "      <td>199</td>\n",
       "      <td>469</td>\n",
       "    </tr>\n",
       "    <tr>\n",
       "      <th>2021-09-01</th>\n",
       "      <td>6365</td>\n",
       "      <td>31</td>\n",
       "      <td>2</td>\n",
       "      <td>6</td>\n",
       "      <td>0</td>\n",
       "      <td>199</td>\n",
       "      <td>385</td>\n",
       "    </tr>\n",
       "    <tr>\n",
       "      <th>2021-10-01</th>\n",
       "      <td>4708</td>\n",
       "      <td>16</td>\n",
       "      <td>1</td>\n",
       "      <td>6</td>\n",
       "      <td>0</td>\n",
       "      <td>199</td>\n",
       "      <td>295</td>\n",
       "    </tr>\n",
       "    <tr>\n",
       "      <th>2021-12-01</th>\n",
       "      <td>3203</td>\n",
       "      <td>26</td>\n",
       "      <td>1</td>\n",
       "      <td>6</td>\n",
       "      <td>0</td>\n",
       "      <td>199</td>\n",
       "      <td>355</td>\n",
       "    </tr>\n",
       "  </tbody>\n",
       "</table>\n",
       "<p>11331 rows × 7 columns</p>\n",
       "</div>"
      ],
      "text/plain": [
       "                                      distance  duration  count  minute_price  \\\n",
       "subscription_type user_id month                                                 \n",
       "free              700     2021-01-01      2516        15      1             8   \n",
       "                          2021-02-01     13446        89      5             8   \n",
       "                          2021-03-01      3798        19      1             8   \n",
       "                          2021-04-01      2985        16      1             8   \n",
       "                          2021-06-01      5928        29      2             8   \n",
       "...                                        ...       ...    ...           ...   \n",
       "ultra             699     2021-06-01      4073        17      1             6   \n",
       "                          2021-08-01      7018        45      2             6   \n",
       "                          2021-09-01      6365        31      2             6   \n",
       "                          2021-10-01      4708        16      1             6   \n",
       "                          2021-12-01      3203        26      1             6   \n",
       "\n",
       "                                      start_ride_price  subscription_fee  \\\n",
       "subscription_type user_id month                                            \n",
       "free              700     2021-01-01                50                 0   \n",
       "                          2021-02-01                50                 0   \n",
       "                          2021-03-01                50                 0   \n",
       "                          2021-04-01                50                 0   \n",
       "                          2021-06-01                50                 0   \n",
       "...                                                ...               ...   \n",
       "ultra             699     2021-06-01                 0               199   \n",
       "                          2021-08-01                 0               199   \n",
       "                          2021-09-01                 0               199   \n",
       "                          2021-10-01                 0               199   \n",
       "                          2021-12-01                 0               199   \n",
       "\n",
       "                                      income  \n",
       "subscription_type user_id month               \n",
       "free              700     2021-01-01     170  \n",
       "                          2021-02-01     962  \n",
       "                          2021-03-01     202  \n",
       "                          2021-04-01     178  \n",
       "                          2021-06-01     332  \n",
       "...                                      ...  \n",
       "ultra             699     2021-06-01     301  \n",
       "                          2021-08-01     469  \n",
       "                          2021-09-01     385  \n",
       "                          2021-10-01     295  \n",
       "                          2021-12-01     355  \n",
       "\n",
       "[11331 rows x 7 columns]"
      ]
     },
     "execution_count": 40,
     "metadata": {},
     "output_type": "execute_result"
    }
   ],
   "source": [
    "data_full_pivot = data_full.pivot_table(index=['subscription_type','user_id','month'],\n",
    "                            values=['distance','duration','start_ride_price','subscription_fee','minute_price'],\n",
    "                            aggfunc=['sum','count','mean']\n",
    "                                       )\n",
    "data_full_pivot.columns = \\\n",
    "['distance','duration','sum1','sum2','sum3',\n",
    " 'count','count1','count2','count3','count4',\n",
    " 'mean1','mean2','minute_price','start_ride_price','subscription_fee']\n",
    "\n",
    "data_full_pivot = data_full_pivot.drop(['sum1','sum2','sum3',\n",
    "                                        'count1','count2','count3','count4',\n",
    "                                        'mean1','mean2'], axis=1)\n",
    "\n",
    "def income1(df,start,count,subs_f,minut,duration):\n",
    "    df['income']=df[start]*df[count]+df[subs_f]+df[minut]*df[duration]\n",
    "    return df['income']\n",
    "\n",
    "data_full_pivot['income'] =income1(data_full_pivot,\n",
    "                                   'start_ride_price',\n",
    "                                   'count',\n",
    "                                   'subscription_fee',\n",
    "                                   'minute_price',\n",
    "                                   'duration')\n",
    "\n",
    "data_full_pivot_free=data_full_pivot.query('subscription_type == \"free\"')['income']\n",
    "data_full_pivot_ultra=data_full_pivot.query('subscription_type == \"ultra\"')['income']\n",
    "\n",
    "data_full_pivot"
   ]
  },
  {
   "cell_type": "code",
   "execution_count": 41,
   "id": "e41c2ae2",
   "metadata": {},
   "outputs": [
    {
     "data": {
      "text/markdown": [
       "С учетом имеющихся условий оплаты поездок была рассчитана общая выручка в размере 3878641 руб. При этом выручка от пользователей без подписки составила 2234104 руб., а от пользователей с подпиской - 1644537 руб."
      ],
      "text/plain": [
       "<IPython.core.display.Markdown object>"
      ]
     },
     "metadata": {},
     "output_type": "display_data"
    }
   ],
   "source": [
    "display(Markdown(\n",
    "f\"С учетом имеющихся условий оплаты поездок была рассчитана общая выручка в размере \\\n",
    "{data_full_pivot['income'].sum()} руб. При этом выручка от пользователей без подписки составила \\\n",
    "{data_full_pivot_free.sum()} руб., а от пользователей с подпиской - {data_full_pivot_ultra.sum()} руб.\"))"
   ]
  },
  {
   "cell_type": "markdown",
   "id": "41545ac0",
   "metadata": {},
   "source": [
    "#### Шаг 6. Проверка гипотез"
   ]
  },
  {
   "cell_type": "markdown",
   "id": "941f9ce1",
   "metadata": {},
   "source": [
    "##### Тратят ли пользователи с подпиской больше времени на поездки?"
   ]
  },
  {
   "cell_type": "markdown",
   "id": "407b0901",
   "metadata": {},
   "source": [
    "Проверим следующие гипотезы:\n",
    "- Нулевая гипотеза (Н0): Среднее время поездки у пользователей с подпиской и без подписки одинаковое\n",
    "- Альтернативная гипотеза (Н1): Среднее время поездки у пользователей с подпиской больше чем у пользователей без подписки"
   ]
  },
  {
   "cell_type": "code",
   "execution_count": 42,
   "id": "d6929f29",
   "metadata": {},
   "outputs": [
    {
     "name": "stdout",
     "output_type": "stream",
     "text": [
      "p-значение: 2.4959453720736625e-34\n",
      "Отвергаем нулевую гипотезу о равенстве времени поездки\n"
     ]
    }
   ],
   "source": [
    "#Создадим Series с данными о времени поездки \n",
    "sample_ultra_duration = data_full_ultra['duration'] \n",
    "sample_free_duration = data_full_free['duration']\n",
    "\n",
    "alpha = 0.05 # уровень статистической значимости\n",
    "\n",
    "results = st.ttest_ind(sample_ultra_duration, sample_free_duration, alternative = 'greater')\n",
    "\n",
    "print('p-значение:', results.pvalue)\n",
    "\n",
    "if results.pvalue < alpha:\n",
    "    print('Отвергаем нулевую гипотезу о равенстве времени поездки')\n",
    "else:\n",
    "    print('Не получилось отвергнуть нулевую гипотезу о равенстве времени поездки')"
   ]
  },
  {
   "cell_type": "markdown",
   "id": "61172468",
   "metadata": {},
   "source": [
    "Так как p-значение: 2.4959453720736625e-34 (2.4959453720736625× 10 в -34 степени), что указывает на минимальную вероятность получить наблюдаемый результат (или более экстремальный) при условии, что нулевая гипотеза верна.\n",
    "\n",
    "Соответственно проверка показала, что среднее время поездки у пользователей с подпиской больше чем у пользователей без подписки. \n",
    "Это могло бы повлиять на величину выручки (у подписчиков тарифа ultra стоимость 1 минуты ниже, чем у неподписчиков), если бы люди с подпиской совершали равное количество поездак с людьми, подписку не оформившими. Однако, по имеющимся данным, видно, что поездок подписчики на тариф ultra совершают почти в 2 раза меньше, чем пользователи, не имеющие подписки.\n",
    "\n",
    "Поэтому, решение фирмы иметь подписчиков с более льготной ценой за 1 минуту аренды самоката, но при этом имеющих ежемесячную оплату за подписку является верным."
   ]
  },
  {
   "cell_type": "markdown",
   "id": "41a7c5b3",
   "metadata": {},
   "source": [
    "##### Cреднее расстояние, которое проезжают пользователи с подпиской за одну поездку, не превышает 3130 метров"
   ]
  },
  {
   "cell_type": "markdown",
   "id": "ac808dc5",
   "metadata": {},
   "source": [
    "Проверим следующие гипотезы:\n",
    "- Нулевая гипотеза (Н0): Cреднее расстояние, которое проезжают пользователи с подпиской за одну поездку равно 3130м\n",
    "- Альтернативная гипотеза (Н1): Cреднее расстояние, которое проезжают пользователи с подпиской за одну поездку больше 3130 м."
   ]
  },
  {
   "cell_type": "code",
   "execution_count": 43,
   "id": "d6fce661",
   "metadata": {},
   "outputs": [
    {
     "name": "stdout",
     "output_type": "stream",
     "text": [
      "p-значение: 0.9195649894697724\n",
      "Не получилось отвергнуть нулевую гипотезу о равенстве среднего расстояния за одну поездку 3130м\n"
     ]
    }
   ],
   "source": [
    "#Создадим Series с данными о времени поездки \n",
    "sample_ultra_distance = data_full_ultra['distance'] \n",
    "good_distance = 3130\n",
    "\n",
    "alpha = 0.05 # уровень статистической значимости\n",
    "\n",
    "results = st.ttest_1samp(\n",
    "          sample_ultra_distance, \n",
    "          good_distance,\n",
    "          alternative='greater')\n",
    "\n",
    "print('p-значение:', results.pvalue)\n",
    "\n",
    "if results.pvalue < alpha:\n",
    "    print('Отвергаем нулевую гипотезу о равенстве среднего расстояния за одну поездку 3130м')\n",
    "else:\n",
    "    print('Не получилось отвергнуть нулевую гипотезу о равенстве среднего расстояния за одну поездку 3130м')"
   ]
  },
  {
   "cell_type": "markdown",
   "id": "1a3266a8",
   "metadata": {},
   "source": [
    "Тест показал, что среднее расстояние, которое проезжают пользователи равно 3130м(с уровнем статистической значимости 5%), что не противоречит предшествующему анализу данных, на котором было рассчитано, что медиана расстояния за одну поездку - 3115м, а средняя - 3045м."
   ]
  },
  {
   "cell_type": "markdown",
   "id": "b38f6e0d",
   "metadata": {},
   "source": [
    "Можно сделать вывод, что за одну поездку пользователи в среднем не превышают оптимальный порог износа самоката в 3130м, что может продлить службу самокатов и сократить издержки на их ремонт и замену."
   ]
  },
  {
   "cell_type": "markdown",
   "id": "484b5d83",
   "metadata": {},
   "source": [
    "##### Помесячная выручка от пользователей с подпиской по месяцам выше, чем выручка от пользователей без подписки."
   ]
  },
  {
   "cell_type": "markdown",
   "id": "4a87e2c5",
   "metadata": {},
   "source": [
    "Проверим следующие гипотезы:\n",
    "- Нулевая гипотеза (Н0): Помесячная выручка от пользователей с подпиской такая же как у пользователей без подписки\n",
    "- Альтернативная гипотеза (Н1): Помесячная выручка от пользователей с подпиской выше помесячной выручки у пользователей без подписки"
   ]
  },
  {
   "cell_type": "code",
   "execution_count": 44,
   "id": "619fe362",
   "metadata": {},
   "outputs": [
    {
     "name": "stdout",
     "output_type": "stream",
     "text": [
      "p-значение: 1.8850394384715216e-31\n",
      "Отвергаем нулевую гипотезу о равенстве выручки от пользователей с подпиской и без подписки\n"
     ]
    }
   ],
   "source": [
    "data_full_pivot_ultra = data_full_pivot.query('subscription_type == \"ultra\"')['income'].tolist()\n",
    "data_full_pivot_free = data_full_pivot.query('subscription_type == \"free\"')['income'].tolist()\n",
    "alpha = 0.05 # уровень статистической значимости\n",
    "\n",
    "results = st.ttest_ind(data_full_pivot_ultra, data_full_pivot_free, alternative = 'greater')\n",
    "\n",
    "print('p-значение:', results.pvalue)\n",
    "\n",
    "if results.pvalue < alpha:\n",
    "    print('Отвергаем нулевую гипотезу о равенстве выручки от пользователей с подпиской и без подписки')\n",
    "else:\n",
    "    print('Не получилось отвергнуть нулевую гипотезу о равенстве выручки от пользователей с подпиской и без')\n"
   ]
  },
  {
   "cell_type": "markdown",
   "id": "8df94123",
   "metadata": {},
   "source": [
    "Тест показал, что средняя помесячная выручка от пользователей с подпиской выше, чем средняя помесячная выручка от пользователей без подписки.\n",
    "\n",
    "Учитывая результаты теста, можно поррекомендовать компании простимулировать пользователей совершить подписку на тариф ultra. Это можно сделать путем введения временной бесплатной подписки или рекламы приложения и условий пользования им для подписчиков."
   ]
  },
  {
   "cell_type": "markdown",
   "id": "aadc1c62",
   "metadata": {},
   "source": [
    "##### После обновления серверов количество обращений в техподдержку значимо снизилось\n",
    "\n",
    "Для проверки такого утверждения можно сформулировать две гипотизы:\n",
    "- Нулевая гипотеза (Н0): Файл с данными о количестве обращений в техподдержку до обновления серверов равен файлу с данными о количестве обращений в техподдержку после обновления\n",
    "- Альтернативная гипотеза (Н1): Файл с данными о количестве обращений в техподдержку до обновления серверов больше файла с данными о количестве обращений в техподдержку после обновления\n",
    "\n",
    "Соответственно проверять такие гипотезы необходимо через тест, проверяющий равенство среднего значения гениральной совокупности до и после изменения, то есть метод ***st.ttest_rel***. Так же имеет смысл уточнить, что проверяться будет односторонняя гипотеза(так как альтернативная гипотеза предполагает проверку на то, стал ли больше новый файл)"
   ]
  },
  {
   "cell_type": "markdown",
   "id": "96a8d38c",
   "metadata": {},
   "source": [
    "***В этом разделе был проверен ряд гипотез и получену следующие результаты:***\n",
    " - Проверка показала, что среднее время поездки у пользователей с подпиской больше чем у пользователей без подписки.\n",
    " \n",
    "      Это могло бы повлиять на величину выручки (у подписчиков тарифа ultra стоимость 1 минуты ниже, чем у неподписчиков), если бы люди с подпиской совершали равное количество поездак с людьми, подписку не оформившими. Однако, по имеющимся данным, видно, что поездок подписчики на тариф ultra совершают почти в 2 раза меньше, чем пользователи, не имеющие подписки.\n",
    "\n",
    "      Поэтому, решение фирмы иметь подписчиков с более льготной ценой за 1 минуту аренды самоката, но при этом имеющих ежемесячную оплату за подписку является верным.\n",
    "   \n",
    "   \n",
    " - Среднее расстояние, которое проезжают пользователи равно 3130м(с уровнем статистической значимости 5%), что не противоречит предшествующему анализу данных, на котором было рассчитано, что медиана расстояния за одну поездку - 3115м, а средняя - 3045м.\n",
    "\n",
    "      Можно сделать вывод, что за одну поездку пользователи в среднем не превышают оптимальный порог износа самоката в 3130м, что может продлить службу самокатов и сократить издержки на их ремонт и замену.\n",
    "      \n",
    " \n",
    " - Средняя помесячная выручка от пользователей с подпиской выше, чем средняя помесячная выручка от пользователей без подписки. Так средняя выручка в первом случае составляет - 362.79р(медиана 337р), а во втором - 328.64р(медиана 274р).\n",
    "      \n",
    "      Учитывая результаты теста, можно поррекомендовать компании простимулировать пользователей совершить подписку на тариф ultra. Это можно сделать путем введения временной бесплатной подписки или рекламы приложения и условий пользования им для подписчиков."
   ]
  },
  {
   "cell_type": "markdown",
   "id": "61213c5e",
   "metadata": {},
   "source": [
    "#### Шаг 7. Распределения"
   ]
  },
  {
   "cell_type": "markdown",
   "id": "59ac84f1",
   "metadata": {},
   "source": [
    "##### Задача 1"
   ]
  },
  {
   "cell_type": "markdown",
   "id": "072f2086",
   "metadata": {},
   "source": [
    "Отделу маркетинга GoFast поставили задачу: \n",
    "\n",
    "Нужно провести акцию с раздачей промокодов на один бесплатный месяц подписки, в рамках которой как минимум \n",
    "100 существующих клиентов должны продлить эту подписку.\n",
    "То есть по завершении периода действия подписки пользователь может либо отказаться от неё, либо продлить, совершив соответствующий платёж. \n",
    "\n",
    "Эта акция уже проводилась ранее и по итогу выяснилось, что после бесплатного пробного периода подписку продлевают \n",
    "10 % пользователей. Выясните, какое минимальное количество промокодов нужно разослать, чтобы вероятность не выполнить план была примерно 5 %. \n",
    "\n",
    "Подберите параметры распределения, описывающего эту ситуацию, постройте график распределения и сформулируйте ответ на вопрос о количестве промокодов.\n",
    "\n",
    "В описанной ситуации возможно 2 исхода:\n",
    "- пользователь может отказаться от подписки\n",
    "- пользователь может продлить подписку\n",
    "\n",
    "***Краткая формулировка условий:***\n",
    "\n",
    "В описанной ситуации возможно 2 исхода:\n",
    "- пользователь может отказаться от подписки\n",
    "- пользователь может продлить подписку\n",
    "\n",
    "при этом исходы испытаний независимо повторяющиеся фиксированное количество раз, поэтому перед нами биноминальное распределение.\n",
    "\n",
    "Минимум 100 существующих клиентов должны продлить эту подписку. \n",
    "После бесплатного пробного периода подписку продлевают 10 % пользователей\n",
    "\n",
    "*Пусть*\n",
    "\n",
    "p – вероятность успеха (продление подписки) = 10%,\n",
    "\n",
    "k – количество успехов (продления подписки) = 100(желаемое),\n",
    "\n",
    "p2 – вероятность успеха (выполнить план) = 5%(желаемая),\n",
    "\n",
    "n – количество попыток (разосланных промокодов) -?\n",
    "\n",
    "тогда , задача заключается в определении такого n, при котором вероятность того, что X > 100, равна примерно 5%\n"
   ]
  },
  {
   "cell_type": "code",
   "execution_count": 45,
   "id": "95cd1d51",
   "metadata": {},
   "outputs": [
    {
     "name": "stdout",
     "output_type": "stream",
     "text": [
      "Минимальное количество промокодов для отправки: 1172\n"
     ]
    },
    {
     "data": {
      "image/png": "[encoded data removed]",
      "text/plain": [
       "<Figure size 432x288 with 1 Axes>"
      ]
     },
     "metadata": {
      "needs_background": "light"
     },
     "output_type": "display_data"
    },
    {
     "data": {
      "text/markdown": [
       "Построенный график показывает биномиальное распределение вероятностей для различного количества использованных промокодов при найденном минимальном количестве отправленных промокодов(n = 1172). \n",
       "\n",
       " Таким образом минимальное количество промокодов для отправки, чтобы удовлетворить заданные условия - 1172 штук"
      ],
      "text/plain": [
       "<IPython.core.display.Markdown object>"
      ]
     },
     "metadata": {},
     "output_type": "display_data"
    }
   ],
   "source": [
    "# Заданные параметры\n",
    "p = 0.1  # Вероятность продления подписки\n",
    "k = 100  # Желаемое количество продлений\n",
    "p2 = 0.05  # Желаемая вероятность\n",
    "\n",
    "# Подбор количества промокодов\n",
    "for n in range(k, 10000):  # Максимальное значение для n установлено как 10000\n",
    "    if binom.cdf(k, n, p) <= p2:\n",
    "        break\n",
    "\n",
    "print(f\"Минимальное количество промокодов для отправки: {n}\")\n",
    "\n",
    "# Построим график распределения\n",
    "x = np.arange(binom.ppf(0.001, n, p), binom.ppf(0.999, n, p))\n",
    "plt.plot(x, binom.pmf(x, n, p), 'bo', ms=8, label='binom pmf')\n",
    "plt.xlabel('Количество продлений')\n",
    "plt.ylabel('Вероятность')\n",
    "plt.title(f'Биномиальное распределение для n = {n}')\n",
    "plt.show()\n",
    "\n",
    "display(Markdown(\n",
    "f\"Построенный график показывает биномиальное распределение вероятностей для различного количества использованных \\\n",
    "промокодов при найденном минимальном количестве отправленных промокодов(n = {n}). \\n\\n \\\n",
    "Таким образом минимальное количество промокодов для отправки, чтобы удовлетворить заданные условия - {n} штук\"))"
   ]
  },
  {
   "cell_type": "markdown",
   "id": "61b24451",
   "metadata": {},
   "source": [
    "##### Задача 2"
   ]
  },
  {
   "cell_type": "markdown",
   "id": "0ada3375",
   "metadata": {},
   "source": [
    "Отдел маркетинга рассылает клиентам push-уведомления в мобильном приложении. Клиенты могут открыть его или не открывать. Известно, что уведомления открывают около 40% получивших клиентов. \n",
    "\n",
    "Отдел планирует разослать 1 млн уведомлений. С помощью аппроксимации постройте примерный график распределения и оцените вероятность того, что уведомление откроют не более 399,5 тыс. пользователей.\n",
    "\n",
    "***Краткая формулировка условий:***\n",
    "\n",
    "В описанной ситуации возможно 2 исхода:\n",
    "- клиент может открыть push-уведомление\n",
    "- клиент может не открыть push-уведомление\n",
    "при этом исходы испытаний независимо повторяющиеся фиксированное количество раз, поэтому перед нами биноминальное распределение.\n",
    "\n",
    "Уведомления открывают около 40% получивших клиентов\n",
    "Отдел планирует разослать 1 млн уведомлений \n",
    "оцените вероятность того, что уведомление откроют не более 399,5 тыс. пользователей.\n",
    "\n",
    "Пусть\n",
    "\n",
    "p – вероятность успеха (уведомления открывают) = 40%,\n",
    "\n",
    "k – количество успехов (уведомления открывают) = не более 399,5 тыс. пользователей,\n",
    "\n",
    "n – количество попыток (разосланных уведомлений) -?"
   ]
  },
  {
   "cell_type": "code",
   "execution_count": 46,
   "id": "65ac0f28",
   "metadata": {},
   "outputs": [
    {
     "name": "stdout",
     "output_type": "stream",
     "text": [
      "Вероятность того, что уведомление откроют не более 399,5 тыс. пользователей равна 15 %\n"
     ]
    }
   ],
   "source": [
    "# задаём параметры биномиального распределения\n",
    "n = 1000000\n",
    "p = 0.4\n",
    "\n",
    "# задаём параметры нормального распределения равными\n",
    "# мат.ожиданию и дисперсии биномиального распределения\n",
    "mu = n * p\n",
    "sigma = sqrt(n * p * (1 - p))\n",
    "\n",
    "distr = st.norm(mu,sigma)# задайте нормальное распределение\n",
    "\n",
    "result =distr.cdf(399500) # найдите вероятность\n",
    "print(\"Вероятность того, что уведомление откроют не более 399,5 тыс. пользователей равна\",round(result*100), \"%\")"
   ]
  },
  {
   "cell_type": "markdown",
   "id": "d7ddee1a",
   "metadata": {},
   "source": [
    "#### Общий вывод\n",
    "\n",
    "В ходе предобработки данных был рассмотрены файлы с информацией о некоторых пользователях из нескольких городов, а также об их поездках популярного сервиса аренды самокатов GoFast. Требовалось проанализировать данные и проверить некоторые гипотезы, которые могут помочь бизнесу вырасти.\n",
    "\n",
    "На первом этапе анализа были изменены типы данных в некоторых столбцах; таблицы проверены на пропуски; удалены дублирующиеся строки, так же была произведена проверка на наличие неявных дубликатов. Добавлены необходимые для анализа данные. Следует отметить, что предоставленные данные хорошего качества - в них отсутсвуют пропуски, минимальное количество повторов.\n",
    "\n",
    "В ходе исследовательского анализа было выявлено, что максимальное количество пользователей сервиса аренды самокатов GoFast находится в Пятигорске(219 человек). Минимальное - в Москве. \n",
    "\n",
    "Оказалось, что почти половина пользователей сервиса имеют подписку (46%)\n",
    "\n",
    "Количество пользователей возрастом от 23 до 26 лет составляют 35 % от общего числа пользователей. \n",
    "Так же можно подчеркнуть, что стоит задуматься об ограничении минимального возраста пользователей, так как электросамокат развивает ощутимую скорость и юный водитель может оказаться виновником ДТП. При этом стоит учесть, что в полученных данных подростки до 15 лет составляют всего 2% от общего числа пользователей, то есть не являются основными потребителями услуги аренды.\n",
    "\n",
    "Чаще всего поездки длятся от 16 до 20 минут, однако, имеются и более длительные -свыше 35мин. Было принято решение, что такая выбивающаяся длительность поездок может быть оправдана, так как пользователи могли действительно совершать такие поездки. Тем не менее, могли возникнуть проблемы с завершением аренды на техническом уровне или проблемы с местом для парковки самоката, на что следует обратить внимание руководству компании.\n",
    "\n",
    "В среднем пользователи проезжают 3174м, при этом медиана этого показателя у пользователей с подпиской - 3149м, средняя - 3115м, а у пользователей без нее -3115м и 3045м соответственно. Гистограммы проиллюстрировали несколько пиков: есть вероятность, что часть пользователей берет самокаты, чтобы проехать небольшие расстояния. Поэтому соответствующая гистограмма отражает небольшим пиком часть таких пользователей приблизительно на 500м у имеющих подписку пользователей и на 1000м у не имеющих.\n",
    "\n",
    "Далее было произведено объединение всех таблиц с данными, создание и анализ таблиц с пользователями имеющими подписку и без нее, так же определено среднее время и среднее расстояние поездок пользователей с подпиской и без.\n",
    "\n",
    "Оказалось, что различия значительны только в количестве поездок имеющих и не имеющих подписку пользователей, продолжительность поездки в обоих случаях отличается не сильно, как и среднее расстояние.\n",
    "\n",
    "Была рассчитана общая выручка, которая составила за исследуемый период 3733506 руб. При этом выручка от пользователей без подписки - 2103238 руб., а от пользователей с подпиской - 1630268 руб. Следует отметить, что средняя помесячная выручка при этом больше у пользователей с подпиской.\n",
    "\n",
    "После этого была произведена проверка ряда гипотез. Получены следующие результаты:\n",
    "\n",
    "- Проверка показала, что среднее время поездки у пользователей с подпиской больше чем у пользователей без подписки.\n",
    "    \n",
    "    При этом поездок подписчики на тариф ultra совершают почти в 2 раза меньше, чем пользователи, не имеющие подписки.\n",
    "    \n",
    "    Поэтому, решение фирмы иметь подписчиков с более льготной ценой за 1 минуту аренды самоката, но при этом имеющих ежемесячную оплату за подписку является верным.\n",
    "\n",
    "- Среднее время, которое проезжают пользователи равно 3130м. \n",
    "   \n",
    "   Можно сделать вывод, что за одну поездку пользователи в среднем не превышают оптимальный порог износа самоката в 3130м, что может продлить службу самокатов и сократить издержки на их ремонт и замену.\n",
    "    \n",
    "- Помесячная выручка от пользователей с подпиской выше, чем помесячная выручка от пользователей без подписки\n",
    "  \n",
    "  Учитывая результаты теста, можно поррекомендовать компании простимулировать пользователей совершить подписку на тариф ultra. Это можно сделать путем введения временной бесплатной подписки или рекламы приложения и условий пользования им для подписчиков. Так же, имея в виду что, подписчики совершают почти в 2 раза меньше поездок, можно ввести бонусы за количество поездок в месяц или учесть данное количество в тарифе, чтобы \n"
   ]
  }
 ],
 "metadata": {
  "kernelspec": {
   "display_name": "Python 3 (ipykernel)",
   "language": "python",
   "name": "python3"
  },
  "language_info": {
   "codemirror_mode": {
    "name": "ipython",
    "version": 3
   },
   "file_extension": ".py",
   "mimetype": "text/x-python",
   "name": "python",
   "nbconvert_exporter": "python",
   "pygments_lexer": "ipython3",
   "version": "3.9.5"
  }
 },
 "nbformat": 4,
 "nbformat_minor": 5
}
